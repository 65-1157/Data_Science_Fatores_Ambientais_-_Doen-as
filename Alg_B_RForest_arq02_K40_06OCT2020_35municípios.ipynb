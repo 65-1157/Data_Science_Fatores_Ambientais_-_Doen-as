{
 "cells": [
  {
   "cell_type": "markdown",
   "metadata": {},
   "source": [
    "## Random Forest, Gradient, Light, XG & Adaptative Boosting_K40_06NOV2020_35municp"
   ]
  },
  {
   "cell_type": "markdown",
   "metadata": {},
   "source": [
    "### Carregando as Bibliotecas"
   ]
  },
  {
   "cell_type": "code",
   "execution_count": 224,
   "metadata": {},
   "outputs": [
    {
     "name": "stdout",
     "output_type": "stream",
     "text": [
      "Requirement already satisfied: lightgbm in c:\\users\\aferr\\anaconda3\\lib\\site-packages (2.3.1)\n",
      "Requirement already satisfied: scikit-learn in c:\\users\\aferr\\anaconda3\\lib\\site-packages (from lightgbm) (0.21.3)\n",
      "Requirement already satisfied: scipy in c:\\users\\aferr\\anaconda3\\lib\\site-packages (from lightgbm) (1.4.1)\n",
      "Requirement already satisfied: numpy in c:\\users\\aferr\\anaconda3\\lib\\site-packages (from lightgbm) (1.17.4)\n",
      "Requirement already satisfied: joblib>=0.11 in c:\\users\\aferr\\anaconda3\\lib\\site-packages (from scikit-learn->lightgbm) (0.14.0)\n",
      "Requirement already satisfied: xgboost in c:\\users\\aferr\\anaconda3\\lib\\site-packages (1.2.1)\n",
      "Requirement already satisfied: scipy in c:\\users\\aferr\\anaconda3\\lib\\site-packages (from xgboost) (1.4.1)\n",
      "Requirement already satisfied: numpy in c:\\users\\aferr\\anaconda3\\lib\\site-packages (from xgboost) (1.17.4)\n"
     ]
    }
   ],
   "source": [
    "! pip install lightgbm\n",
    "! pip install xgboost"
   ]
  },
  {
   "cell_type": "code",
   "execution_count": 225,
   "metadata": {},
   "outputs": [],
   "source": [
    "import plotly_express as px\n",
    "import pandas as pd\n",
    "import matplotlib.pyplot as plt\n",
    "import numpy as np\n",
    "import statsmodels.api as sm\n",
    "import statsmodels.formula.api as smf\n",
    "import seaborn as sns\n",
    "from scipy import stats\n",
    "import scipy\n",
    "import seaborn as sns\n",
    "import statsmodels\n",
    "import statsmodels.stats.api as sms"
   ]
  },
  {
   "cell_type": "code",
   "execution_count": 226,
   "metadata": {},
   "outputs": [],
   "source": [
    "import xgboost as xgb\n",
    "from xgboost import XGBRegressor\n",
    "from sklearn.model_selection import train_test_split\n",
    "from sklearn.metrics import mean_squared_error\n",
    "from sklearn.preprocessing import RobustScaler\n",
    "from sklearn.model_selection import RandomizedSearchCV, GridSearchCV"
   ]
  },
  {
   "cell_type": "code",
   "execution_count": 227,
   "metadata": {},
   "outputs": [],
   "source": [
    "# parâmetros dos gráficos para o arquivo\n",
    "params = {'legend.fontsize': 'x-large',\n",
    "          'figure.figsize': (16, 8),\n",
    "          'axes.labelsize': 'x-large',\n",
    "          'axes.titlesize':'x-large',\n",
    "          'xtick.labelsize':'x-large',\n",
    "          'ytick.labelsize':'x-large'}\n",
    "%matplotlib inline\n",
    "plt.rcParams.update(params)"
   ]
  },
  {
   "cell_type": "markdown",
   "metadata": {},
   "source": [
    "### Arquivo_02"
   ]
  },
  {
   "cell_type": "code",
   "execution_count": 228,
   "metadata": {},
   "outputs": [],
   "source": [
    "df=pd.read_csv('d_f_a_2.csv',encoding = \"ISO-8859-1\", sep=\";\", low_memory=False, nrows=1000000)"
   ]
  },
  {
   "cell_type": "code",
   "execution_count": 229,
   "metadata": {},
   "outputs": [
    {
     "data": {
      "text/plain": [
       "(140628, 83)"
      ]
     },
     "execution_count": 229,
     "metadata": {},
     "output_type": "execute_result"
    }
   ],
   "source": [
    "df.shape"
   ]
  },
  {
   "cell_type": "code",
   "execution_count": 230,
   "metadata": {},
   "outputs": [
    {
     "data": {
      "text/html": [
       "<div>\n",
       "<style scoped>\n",
       "    .dataframe tbody tr th:only-of-type {\n",
       "        vertical-align: middle;\n",
       "    }\n",
       "\n",
       "    .dataframe tbody tr th {\n",
       "        vertical-align: top;\n",
       "    }\n",
       "\n",
       "    .dataframe thead th {\n",
       "        text-align: right;\n",
       "    }\n",
       "</style>\n",
       "<table border=\"1\" class=\"dataframe\">\n",
       "  <thead>\n",
       "    <tr style=\"text-align: right;\">\n",
       "      <th></th>\n",
       "      <th>cod_muni</th>\n",
       "      <th>qtd_mora</th>\n",
       "      <th>incidencia</th>\n",
       "      <th>diag_princ</th>\n",
       "      <th>prevalencia</th>\n",
       "      <th>renda_media_mora</th>\n",
       "      <th>SITU1_entorno</th>\n",
       "      <th>SITU2_entorno</th>\n",
       "      <th>SITU3_entorno</th>\n",
       "      <th>SITU4_entorno</th>\n",
       "      <th>...</th>\n",
       "      <th>V032_domicilio02</th>\n",
       "      <th>V033_domicilio02</th>\n",
       "      <th>V034_domicilio02</th>\n",
       "      <th>V035_domicilio02</th>\n",
       "      <th>V036_domicilio02</th>\n",
       "      <th>V037_domicilio02</th>\n",
       "      <th>V038_domicilio02</th>\n",
       "      <th>V041_domicilio02</th>\n",
       "      <th>V045_domicilio02</th>\n",
       "      <th>V089_domicilio02</th>\n",
       "    </tr>\n",
       "  </thead>\n",
       "  <tbody>\n",
       "    <tr>\n",
       "      <td>18</td>\n",
       "      <td>290010</td>\n",
       "      <td>8301</td>\n",
       "      <td>24</td>\n",
       "      <td>K40</td>\n",
       "      <td>0.002891</td>\n",
       "      <td>0.103943</td>\n",
       "      <td>0.463481</td>\n",
       "      <td>0.0</td>\n",
       "      <td>0.0</td>\n",
       "      <td>0.0</td>\n",
       "      <td>...</td>\n",
       "      <td>0.005892</td>\n",
       "      <td>0.399110</td>\n",
       "      <td>0.016835</td>\n",
       "      <td>0.035354</td>\n",
       "      <td>0.000000</td>\n",
       "      <td>0.010582</td>\n",
       "      <td>0.970779</td>\n",
       "      <td>0.027417</td>\n",
       "      <td>0.490861</td>\n",
       "      <td>0.509139</td>\n",
       "    </tr>\n",
       "    <tr>\n",
       "      <td>53</td>\n",
       "      <td>290020</td>\n",
       "      <td>16991</td>\n",
       "      <td>50</td>\n",
       "      <td>K40</td>\n",
       "      <td>0.002943</td>\n",
       "      <td>0.036980</td>\n",
       "      <td>0.548910</td>\n",
       "      <td>0.0</td>\n",
       "      <td>0.0</td>\n",
       "      <td>0.0</td>\n",
       "      <td>...</td>\n",
       "      <td>0.109294</td>\n",
       "      <td>0.194620</td>\n",
       "      <td>0.004395</td>\n",
       "      <td>0.249180</td>\n",
       "      <td>0.000176</td>\n",
       "      <td>0.024848</td>\n",
       "      <td>0.909341</td>\n",
       "      <td>0.086381</td>\n",
       "      <td>0.501875</td>\n",
       "      <td>0.498125</td>\n",
       "    </tr>\n",
       "    <tr>\n",
       "      <td>98</td>\n",
       "      <td>290030</td>\n",
       "      <td>14503</td>\n",
       "      <td>97</td>\n",
       "      <td>K40</td>\n",
       "      <td>0.006688</td>\n",
       "      <td>0.063205</td>\n",
       "      <td>0.887555</td>\n",
       "      <td>0.0</td>\n",
       "      <td>0.0</td>\n",
       "      <td>0.0</td>\n",
       "      <td>...</td>\n",
       "      <td>0.006756</td>\n",
       "      <td>0.374053</td>\n",
       "      <td>0.024022</td>\n",
       "      <td>0.037399</td>\n",
       "      <td>0.000409</td>\n",
       "      <td>0.006142</td>\n",
       "      <td>0.970859</td>\n",
       "      <td>0.018904</td>\n",
       "      <td>0.491913</td>\n",
       "      <td>0.508087</td>\n",
       "    </tr>\n",
       "  </tbody>\n",
       "</table>\n",
       "<p>3 rows × 83 columns</p>\n",
       "</div>"
      ],
      "text/plain": [
       "    cod_muni  qtd_mora  incidencia diag_princ  prevalencia  renda_media_mora  \\\n",
       "18    290010      8301          24        K40     0.002891          0.103943   \n",
       "53    290020     16991          50        K40     0.002943          0.036980   \n",
       "98    290030     14503          97        K40     0.006688          0.063205   \n",
       "\n",
       "    SITU1_entorno  SITU2_entorno  SITU3_entorno  SITU4_entorno  ...  \\\n",
       "18       0.463481            0.0            0.0            0.0  ...   \n",
       "53       0.548910            0.0            0.0            0.0  ...   \n",
       "98       0.887555            0.0            0.0            0.0  ...   \n",
       "\n",
       "    V032_domicilio02  V033_domicilio02  V034_domicilio02  V035_domicilio02  \\\n",
       "18          0.005892          0.399110          0.016835          0.035354   \n",
       "53          0.109294          0.194620          0.004395          0.249180   \n",
       "98          0.006756          0.374053          0.024022          0.037399   \n",
       "\n",
       "    V036_domicilio02  V037_domicilio02  V038_domicilio02  V041_domicilio02  \\\n",
       "18          0.000000          0.010582          0.970779          0.027417   \n",
       "53          0.000176          0.024848          0.909341          0.086381   \n",
       "98          0.000409          0.006142          0.970859          0.018904   \n",
       "\n",
       "    V045_domicilio02  V089_domicilio02  \n",
       "18          0.490861          0.509139  \n",
       "53          0.501875          0.498125  \n",
       "98          0.491913          0.508087  \n",
       "\n",
       "[3 rows x 83 columns]"
      ]
     },
     "execution_count": 230,
     "metadata": {},
     "output_type": "execute_result"
    }
   ],
   "source": [
    "# separação na doença mais frequente desse arquivo = K40\n",
    "temp = np.where(df['diag_princ'].isin(['K40']))\n",
    "df40 = df.loc[temp]\n",
    "# reunir tudo\n",
    "df40.head(3)"
   ]
  },
  {
   "cell_type": "code",
   "execution_count": 231,
   "metadata": {},
   "outputs": [
    {
     "data": {
      "text/plain": [
       "(2409, 83)"
      ]
     },
     "execution_count": 231,
     "metadata": {},
     "output_type": "execute_result"
    }
   ],
   "source": [
    "df40.shape"
   ]
  },
  {
   "cell_type": "code",
   "execution_count": 232,
   "metadata": {},
   "outputs": [],
   "source": [
    "# Preparação dos arquivos de entrada (X) e saída (y)\n",
    "X = df40.drop(columns=['prevalencia','diag_princ','incidencia'])\n",
    "y = df40.loc[:,'prevalencia']"
   ]
  },
  {
   "cell_type": "code",
   "execution_count": 233,
   "metadata": {},
   "outputs": [],
   "source": [
    "# Divisão entre arquivos de treino e teste, com corte em 30%\n",
    "X_train, X_test, y_train, y_test = train_test_split(X,y,test_size =0.3, random_state=1234)"
   ]
  },
  {
   "cell_type": "code",
   "execution_count": 234,
   "metadata": {},
   "outputs": [
    {
     "data": {
      "text/plain": [
       "ExtraTreesRegressor(bootstrap=False, criterion='mse', max_depth=None,\n",
       "                    max_features='auto', max_leaf_nodes=None,\n",
       "                    min_impurity_decrease=0.0, min_impurity_split=None,\n",
       "                    min_samples_leaf=1, min_samples_split=2,\n",
       "                    min_weight_fraction_leaf=0.0, n_estimators=100, n_jobs=None,\n",
       "                    oob_score=False, random_state=None, verbose=0,\n",
       "                    warm_start=False)"
      ]
     },
     "execution_count": 234,
     "metadata": {},
     "output_type": "execute_result"
    }
   ],
   "source": [
    "from sklearn.ensemble import ExtraTreesRegressor\n",
    "model = ExtraTreesRegressor(n_estimators=100)\n",
    "model.fit(X_train, y_train)"
   ]
  },
  {
   "cell_type": "code",
   "execution_count": 235,
   "metadata": {},
   "outputs": [
    {
     "data": {
      "text/plain": [
       "<AxesSubplot:>"
      ]
     },
     "execution_count": 235,
     "metadata": {},
     "output_type": "execute_result"
    },
    {
     "data": {
      "image/png": "[encoded data removed]",
      "text/plain": [
       "<Figure size 1152x576 with 1 Axes>"
      ]
     },
     "metadata": {
      "needs_background": "light"
     },
     "output_type": "display_data"
    }
   ],
   "source": [
    "(pd.Series(model.feature_importances_, index=X.columns)\n",
    "   .nlargest(30).sort_values().plot.barh())"
   ]
  },
  {
   "cell_type": "markdown",
   "metadata": {},
   "source": [
    "### Seleção de atributos  - acima da importância de (não_exixte_pav_entorno): vide acima"
   ]
  },
  {
   "cell_type": "code",
   "execution_count": 236,
   "metadata": {},
   "outputs": [],
   "source": [
    "# Preparação dos arquivos de entrada (X) e saída (y)\n",
    "# Código do município foi retirado\n",
    "X = df40[[\"cod_muni\",\"V018_domicilio02\",'V018_domicilio01',\"V061_domicilio01\",'V045_domicilio02',\"V089_domicilio02\",\"n_existe_mfio_entorno\",\n",
    "           'n_existe_arbo_entorno',\"n_existe_pav_entorno\"]]\n",
    "y = df40.loc[:,'prevalencia']"
   ]
  },
  {
   "cell_type": "code",
   "execution_count": 237,
   "metadata": {},
   "outputs": [],
   "source": [
    "# Divisão entre arquivos de treino e teste, com corte em 30%\n",
    "X_train, X_test, y_train, y_test = train_test_split(X,y,test_size =0.3, random_state=1234)"
   ]
  },
  {
   "cell_type": "markdown",
   "metadata": {},
   "source": [
    "### Algoritmo Referência = Random Forest"
   ]
  },
  {
   "cell_type": "code",
   "execution_count": 238,
   "metadata": {},
   "outputs": [
    {
     "name": "stdout",
     "output_type": "stream",
     "text": [
      "Parameters currently in use:\n",
      "\n",
      "{'bootstrap': True,\n",
      " 'criterion': 'mse',\n",
      " 'max_depth': None,\n",
      " 'max_features': 'auto',\n",
      " 'max_leaf_nodes': None,\n",
      " 'min_impurity_decrease': 0.0,\n",
      " 'min_impurity_split': None,\n",
      " 'min_samples_leaf': 1,\n",
      " 'min_samples_split': 2,\n",
      " 'min_weight_fraction_leaf': 0.0,\n",
      " 'n_estimators': 'warn',\n",
      " 'n_jobs': None,\n",
      " 'oob_score': False,\n",
      " 'random_state': 42,\n",
      " 'verbose': 0,\n",
      " 'warm_start': False}\n"
     ]
    }
   ],
   "source": [
    "from sklearn.ensemble import RandomForestRegressor\n",
    "rf = RandomForestRegressor(random_state = 42)\n",
    "from sklearn.model_selection import RandomizedSearchCV\n",
    "from pprint import pprint\n",
    "# Look at parameters used by our current forest\n",
    "print('Parameters currently in use:\\n')\n",
    "pprint(rf.get_params())"
   ]
  },
  {
   "cell_type": "code",
   "execution_count": 239,
   "metadata": {},
   "outputs": [
    {
     "name": "stdout",
     "output_type": "stream",
     "text": [
      "Fitting 10 folds for each of 100 candidates, totalling 1000 fits\n"
     ]
    },
    {
     "name": "stderr",
     "output_type": "stream",
     "text": [
      "[Parallel(n_jobs=-1)]: Using backend LokyBackend with 8 concurrent workers.\n",
      "[Parallel(n_jobs=-1)]: Done  25 tasks      | elapsed:    6.5s\n",
      "[Parallel(n_jobs=-1)]: Done 354 tasks      | elapsed:    9.7s\n",
      "[Parallel(n_jobs=-1)]: Done 1000 out of 1000 | elapsed:   15.2s finished\n",
      "C:\\Users\\aferr\\Anaconda3\\lib\\site-packages\\sklearn\\model_selection\\_search.py:814: DeprecationWarning:\n",
      "\n",
      "The default of the `iid` parameter will change from True to False in version 0.22 and will be removed in 0.24. This will change numeric results when test-set sizes are unequal.\n",
      "\n"
     ]
    },
    {
     "data": {
      "text/plain": [
       "RandomizedSearchCV(cv=10, error_score='raise-deprecating',\n",
       "                   estimator=RandomForestRegressor(bootstrap=True,\n",
       "                                                   criterion='mse',\n",
       "                                                   max_depth=None,\n",
       "                                                   max_features='auto',\n",
       "                                                   max_leaf_nodes=None,\n",
       "                                                   min_impurity_decrease=0.0,\n",
       "                                                   min_impurity_split=None,\n",
       "                                                   min_samples_leaf=1,\n",
       "                                                   min_samples_split=2,\n",
       "                                                   min_weight_fraction_leaf=0.0,\n",
       "                                                   n_estimators='warn',\n",
       "                                                   n_jobs=None, oob_score=False,\n",
       "                                                   random_st...\n",
       "                                                   warm_start=False),\n",
       "                   iid='warn', n_iter=100, n_jobs=-1,\n",
       "                   param_distributions={'max_depth': [10, 20, 30],\n",
       "                                        'max_features': ['auto'],\n",
       "                                        'max_leaf_nodes': [2, 3, 4, 5],\n",
       "                                        'min_samples_leaf': [5, 10, 15],\n",
       "                                        'min_samples_split': [3, 6, 9, 12, 15,\n",
       "                                                              18, 21],\n",
       "                                        'n_estimators': [2, 3, 4, 5, 6, 7, 8, 9,\n",
       "                                                         10]},\n",
       "                   pre_dispatch='2*n_jobs', random_state=None, refit=True,\n",
       "                   return_train_score=False, scoring=None, verbose=2)"
      ]
     },
     "execution_count": 239,
     "metadata": {},
     "output_type": "execute_result"
    }
   ],
   "source": [
    "params_grid= {'n_estimators':[2,3,4,5,6,7,8,9,10],\n",
    "              \"max_features\":['auto'],\n",
    "              'max_depth':[10,20,30],\n",
    "              'max_leaf_nodes':[2,3,4,5],\n",
    "              'min_samples_leaf':[5,10,15],\n",
    "              'min_samples_split':[3,6,9,12,15,18,21]}\n",
    "random_rf = RandomizedSearchCV(estimator = rf,cv=10,param_distributions=params_grid,n_iter=100,verbose=2,n_jobs=-1)\n",
    "random_rf.fit(X_train, y_train)"
   ]
  },
  {
   "cell_type": "code",
   "execution_count": 240,
   "metadata": {},
   "outputs": [
    {
     "data": {
      "text/plain": [
       "{'n_estimators': 6,\n",
       " 'min_samples_split': 12,\n",
       " 'min_samples_leaf': 15,\n",
       " 'max_leaf_nodes': 5,\n",
       " 'max_features': 'auto',\n",
       " 'max_depth': 10}"
      ]
     },
     "execution_count": 240,
     "metadata": {},
     "output_type": "execute_result"
    }
   ],
   "source": [
    "random_rf.best_params_"
   ]
  },
  {
   "cell_type": "code",
   "execution_count": 241,
   "metadata": {},
   "outputs": [],
   "source": [
    "m_rf=RandomForestRegressor(n_estimators= 9,\n",
    " min_samples_split = 9,\n",
    " min_samples_leaf = 15,\n",
    " max_leaf_nodes = 5,\n",
    " max_features ='auto',\n",
    " max_depth = 20)"
   ]
  },
  {
   "cell_type": "code",
   "execution_count": 242,
   "metadata": {},
   "outputs": [
    {
     "name": "stdout",
     "output_type": "stream",
     "text": [
      "RandomForestRegressor(bootstrap=True, criterion='mse', max_depth=20,\n",
      "                      max_features='auto', max_leaf_nodes=5,\n",
      "                      min_impurity_decrease=0.0, min_impurity_split=None,\n",
      "                      min_samples_leaf=15, min_samples_split=9,\n",
      "                      min_weight_fraction_leaf=0.0, n_estimators=9, n_jobs=None,\n",
      "                      oob_score=False, random_state=None, verbose=0,\n",
      "                      warm_start=False)\n"
     ]
    }
   ],
   "source": [
    "yrf = m_rf.fit(X_train,y_train)\n",
    "print(yrf)"
   ]
  },
  {
   "cell_type": "code",
   "execution_count": 243,
   "metadata": {},
   "outputs": [],
   "source": [
    "y_rf= yrf.predict(X_test)"
   ]
  },
  {
   "cell_type": "code",
   "execution_count": 244,
   "metadata": {},
   "outputs": [
    {
     "name": "stdout",
     "output_type": "stream",
     "text": [
      "4.68e-06\n"
     ]
    }
   ],
   "source": [
    "mse_rf = round(mean_squared_error(y_test, y_rf),8)\n",
    "print(mse_rf)"
   ]
  },
  {
   "cell_type": "code",
   "execution_count": 245,
   "metadata": {},
   "outputs": [
    {
     "name": "stdout",
     "output_type": "stream",
     "text": [
      "-23.5\n",
      "63.3\n"
     ]
    }
   ],
   "source": [
    "errop2= (y_test - y_rf)*100/y_test\n",
    "# em porcentagem\n",
    "media = round(np.mean(errop2),1)\n",
    "print(media)\n",
    "desvio = round(np.std(errop2),1)\n",
    "print(desvio)"
   ]
  },
  {
   "cell_type": "markdown",
   "metadata": {},
   "source": [
    "### Identificação dos municípios com errop2 entre -3 e 3 porcento"
   ]
  },
  {
   "cell_type": "code",
   "execution_count": 246,
   "metadata": {},
   "outputs": [
    {
     "data": {
      "text/plain": [
       "(723,)"
      ]
     },
     "execution_count": 246,
     "metadata": {},
     "output_type": "execute_result"
    }
   ],
   "source": [
    "errop2.shape"
   ]
  },
  {
   "cell_type": "code",
   "execution_count": 247,
   "metadata": {},
   "outputs": [
    {
     "name": "stdout",
     "output_type": "stream",
     "text": [
      "28093     -19.965406\n",
      "60506    -112.912464\n",
      "110943     34.438811\n",
      "109620     -0.419757\n",
      "124632    -79.572240\n",
      "             ...    \n",
      "36559     -14.365720\n",
      "110742     25.598285\n",
      "83532       1.619854\n",
      "59033       3.031058\n",
      "29783     -36.629485\n",
      "Name: prevalencia, Length: 723, dtype: float64\n"
     ]
    }
   ],
   "source": [
    "print(errop2)"
   ]
  },
  {
   "cell_type": "code",
   "execution_count": 248,
   "metadata": {},
   "outputs": [
    {
     "name": "stdout",
     "output_type": "stream",
     "text": [
      "<class 'pandas.core.series.Series'>\n"
     ]
    }
   ],
   "source": [
    "print(type(errop2))"
   ]
  },
  {
   "cell_type": "code",
   "execution_count": 249,
   "metadata": {},
   "outputs": [
    {
     "name": "stdout",
     "output_type": "stream",
     "text": [
      "        cod_muni      errop2\n",
      "28093     310840  -19.965406\n",
      "60506     315800 -112.912464\n",
      "110943    355460   34.438811\n",
      "109620    355290   -0.419757\n",
      "124632    431030  -79.572240\n",
      "...          ...         ...\n",
      "36559     312210  -14.365720\n",
      "110742    355430   25.598285\n",
      "83532     351800    1.619854\n",
      "59033     315590    3.031058\n",
      "29783     311110  -36.629485\n",
      "\n",
      "[723 rows x 2 columns]\n"
     ]
    }
   ],
   "source": [
    "frame = { 'cod_muni': X_test['cod_muni'], \"errop2\": errop2 } \n",
    "result = pd.DataFrame(frame) \n",
    "print(result) "
   ]
  },
  {
   "cell_type": "code",
   "execution_count": 250,
   "metadata": {},
   "outputs": [
    {
     "name": "stdout",
     "output_type": "stream",
     "text": [
      "<class 'pandas.core.frame.DataFrame'>\n",
      "Int64Index: 723 entries, 28093 to 29783\n",
      "Data columns (total 2 columns):\n",
      "cod_muni    723 non-null int64\n",
      "errop2      723 non-null float64\n",
      "dtypes: float64(1), int64(1)\n",
      "memory usage: 16.9 KB\n"
     ]
    }
   ],
   "source": [
    "result.info()"
   ]
  },
  {
   "cell_type": "code",
   "execution_count": 251,
   "metadata": {},
   "outputs": [],
   "source": [
    "a=result[result['errop2'] >-3]"
   ]
  },
  {
   "cell_type": "code",
   "execution_count": 252,
   "metadata": {},
   "outputs": [
    {
     "data": {
      "text/html": [
       "<div>\n",
       "<style scoped>\n",
       "    .dataframe tbody tr th:only-of-type {\n",
       "        vertical-align: middle;\n",
       "    }\n",
       "\n",
       "    .dataframe tbody tr th {\n",
       "        vertical-align: top;\n",
       "    }\n",
       "\n",
       "    .dataframe thead th {\n",
       "        text-align: right;\n",
       "    }\n",
       "</style>\n",
       "<table border=\"1\" class=\"dataframe\">\n",
       "  <thead>\n",
       "    <tr style=\"text-align: right;\">\n",
       "      <th></th>\n",
       "      <th>cod_muni</th>\n",
       "      <th>errop2</th>\n",
       "    </tr>\n",
       "  </thead>\n",
       "  <tbody>\n",
       "    <tr>\n",
       "      <td>110943</td>\n",
       "      <td>355460</td>\n",
       "      <td>34.438811</td>\n",
       "    </tr>\n",
       "    <tr>\n",
       "      <td>109620</td>\n",
       "      <td>355290</td>\n",
       "      <td>-0.419757</td>\n",
       "    </tr>\n",
       "    <tr>\n",
       "      <td>65387</td>\n",
       "      <td>316570</td>\n",
       "      <td>51.741419</td>\n",
       "    </tr>\n",
       "  </tbody>\n",
       "</table>\n",
       "</div>"
      ],
      "text/plain": [
       "        cod_muni     errop2\n",
       "110943    355460  34.438811\n",
       "109620    355290  -0.419757\n",
       "65387     316570  51.741419"
      ]
     },
     "execution_count": 252,
     "metadata": {},
     "output_type": "execute_result"
    }
   ],
   "source": [
    "a.head(3)"
   ]
  },
  {
   "cell_type": "code",
   "execution_count": 253,
   "metadata": {},
   "outputs": [
    {
     "name": "stdout",
     "output_type": "stream",
     "text": [
      "<class 'pandas.core.frame.DataFrame'>\n",
      "Int64Index: 341 entries, 110943 to 59033\n",
      "Data columns (total 2 columns):\n",
      "cod_muni    341 non-null int64\n",
      "errop2      341 non-null float64\n",
      "dtypes: float64(1), int64(1)\n",
      "memory usage: 8.0 KB\n"
     ]
    }
   ],
   "source": [
    "a.info()"
   ]
  },
  {
   "cell_type": "code",
   "execution_count": 254,
   "metadata": {},
   "outputs": [],
   "source": [
    "b_rf=a[a['errop2'] <3]"
   ]
  },
  {
   "cell_type": "code",
   "execution_count": 255,
   "metadata": {},
   "outputs": [
    {
     "name": "stdout",
     "output_type": "stream",
     "text": [
      "<class 'pandas.core.frame.DataFrame'>\n",
      "Int64Index: 50 entries, 109620 to 83532\n",
      "Data columns (total 2 columns):\n",
      "cod_muni    50 non-null int64\n",
      "errop2      50 non-null float64\n",
      "dtypes: float64(1), int64(1)\n",
      "memory usage: 1.2 KB\n"
     ]
    }
   ],
   "source": [
    "b_rf.info()"
   ]
  },
  {
   "cell_type": "code",
   "execution_count": 256,
   "metadata": {},
   "outputs": [
    {
     "data": {
      "text/html": [
       "<div>\n",
       "<style scoped>\n",
       "    .dataframe tbody tr th:only-of-type {\n",
       "        vertical-align: middle;\n",
       "    }\n",
       "\n",
       "    .dataframe tbody tr th {\n",
       "        vertical-align: top;\n",
       "    }\n",
       "\n",
       "    .dataframe thead th {\n",
       "        text-align: right;\n",
       "    }\n",
       "</style>\n",
       "<table border=\"1\" class=\"dataframe\">\n",
       "  <thead>\n",
       "    <tr style=\"text-align: right;\">\n",
       "      <th></th>\n",
       "      <th>cod_muni</th>\n",
       "      <th>errop2</th>\n",
       "    </tr>\n",
       "  </thead>\n",
       "  <tbody>\n",
       "    <tr>\n",
       "      <td>79086</td>\n",
       "      <td>351220</td>\n",
       "      <td>-1.366356</td>\n",
       "    </tr>\n",
       "    <tr>\n",
       "      <td>83426</td>\n",
       "      <td>351780</td>\n",
       "      <td>-0.277848</td>\n",
       "    </tr>\n",
       "    <tr>\n",
       "      <td>88296</td>\n",
       "      <td>352380</td>\n",
       "      <td>1.000170</td>\n",
       "    </tr>\n",
       "    <tr>\n",
       "      <td>81258</td>\n",
       "      <td>351510</td>\n",
       "      <td>-0.797354</td>\n",
       "    </tr>\n",
       "    <tr>\n",
       "      <td>54635</td>\n",
       "      <td>314880</td>\n",
       "      <td>-0.994240</td>\n",
       "    </tr>\n",
       "    <tr>\n",
       "      <td>120717</td>\n",
       "      <td>430655</td>\n",
       "      <td>1.730246</td>\n",
       "    </tr>\n",
       "    <tr>\n",
       "      <td>93047</td>\n",
       "      <td>353020</td>\n",
       "      <td>-1.498908</td>\n",
       "    </tr>\n",
       "    <tr>\n",
       "      <td>136284</td>\n",
       "      <td>432000</td>\n",
       "      <td>0.336745</td>\n",
       "    </tr>\n",
       "    <tr>\n",
       "      <td>746</td>\n",
       "      <td>290130</td>\n",
       "      <td>-0.596848</td>\n",
       "    </tr>\n",
       "    <tr>\n",
       "      <td>98420</td>\n",
       "      <td>353760</td>\n",
       "      <td>-1.338822</td>\n",
       "    </tr>\n",
       "    <tr>\n",
       "      <td>56772</td>\n",
       "      <td>315213</td>\n",
       "      <td>0.911073</td>\n",
       "    </tr>\n",
       "    <tr>\n",
       "      <td>116979</td>\n",
       "      <td>430367</td>\n",
       "      <td>-2.733485</td>\n",
       "    </tr>\n",
       "    <tr>\n",
       "      <td>44199</td>\n",
       "      <td>313400</td>\n",
       "      <td>-0.716722</td>\n",
       "    </tr>\n",
       "    <tr>\n",
       "      <td>120590</td>\n",
       "      <td>430642</td>\n",
       "      <td>-0.592520</td>\n",
       "    </tr>\n",
       "    <tr>\n",
       "      <td>78518</td>\n",
       "      <td>351130</td>\n",
       "      <td>2.343821</td>\n",
       "    </tr>\n",
       "    <tr>\n",
       "      <td>17059</td>\n",
       "      <td>292530</td>\n",
       "      <td>0.092329</td>\n",
       "    </tr>\n",
       "    <tr>\n",
       "      <td>20404</td>\n",
       "      <td>293015</td>\n",
       "      <td>-0.788133</td>\n",
       "    </tr>\n",
       "    <tr>\n",
       "      <td>8283</td>\n",
       "      <td>291220</td>\n",
       "      <td>-0.841180</td>\n",
       "    </tr>\n",
       "    <tr>\n",
       "      <td>58123</td>\n",
       "      <td>315440</td>\n",
       "      <td>2.067722</td>\n",
       "    </tr>\n",
       "    <tr>\n",
       "      <td>15332</td>\n",
       "      <td>292275</td>\n",
       "      <td>2.704015</td>\n",
       "    </tr>\n",
       "    <tr>\n",
       "      <td>20637</td>\n",
       "      <td>293050</td>\n",
       "      <td>2.994723</td>\n",
       "    </tr>\n",
       "    <tr>\n",
       "      <td>49961</td>\n",
       "      <td>314225</td>\n",
       "      <td>0.829105</td>\n",
       "    </tr>\n",
       "    <tr>\n",
       "      <td>87953</td>\n",
       "      <td>352330</td>\n",
       "      <td>0.169988</td>\n",
       "    </tr>\n",
       "    <tr>\n",
       "      <td>91351</td>\n",
       "      <td>352770</td>\n",
       "      <td>-1.165093</td>\n",
       "    </tr>\n",
       "    <tr>\n",
       "      <td>118422</td>\n",
       "      <td>430485</td>\n",
       "      <td>2.544858</td>\n",
       "    </tr>\n",
       "    <tr>\n",
       "      <td>102829</td>\n",
       "      <td>354360</td>\n",
       "      <td>2.779892</td>\n",
       "    </tr>\n",
       "    <tr>\n",
       "      <td>81078</td>\n",
       "      <td>351495</td>\n",
       "      <td>-2.164277</td>\n",
       "    </tr>\n",
       "    <tr>\n",
       "      <td>3573</td>\n",
       "      <td>290530</td>\n",
       "      <td>0.450487</td>\n",
       "    </tr>\n",
       "    <tr>\n",
       "      <td>32572</td>\n",
       "      <td>311547</td>\n",
       "      <td>2.401747</td>\n",
       "    </tr>\n",
       "    <tr>\n",
       "      <td>69796</td>\n",
       "      <td>350010</td>\n",
       "      <td>0.897698</td>\n",
       "    </tr>\n",
       "    <tr>\n",
       "      <td>94612</td>\n",
       "      <td>353230</td>\n",
       "      <td>-1.995062</td>\n",
       "    </tr>\n",
       "    <tr>\n",
       "      <td>92386</td>\n",
       "      <td>352930</td>\n",
       "      <td>-2.648074</td>\n",
       "    </tr>\n",
       "    <tr>\n",
       "      <td>75914</td>\n",
       "      <td>350810</td>\n",
       "      <td>0.838031</td>\n",
       "    </tr>\n",
       "    <tr>\n",
       "      <td>121305</td>\n",
       "      <td>430695</td>\n",
       "      <td>1.088073</td>\n",
       "    </tr>\n",
       "    <tr>\n",
       "      <td>59033</td>\n",
       "      <td>315590</td>\n",
       "      <td>0.992447</td>\n",
       "    </tr>\n",
       "  </tbody>\n",
       "</table>\n",
       "</div>"
      ],
      "text/plain": [
       "        cod_muni    errop2\n",
       "79086     351220 -1.366356\n",
       "83426     351780 -0.277848\n",
       "88296     352380  1.000170\n",
       "81258     351510 -0.797354\n",
       "54635     314880 -0.994240\n",
       "120717    430655  1.730246\n",
       "93047     353020 -1.498908\n",
       "136284    432000  0.336745\n",
       "746       290130 -0.596848\n",
       "98420     353760 -1.338822\n",
       "56772     315213  0.911073\n",
       "116979    430367 -2.733485\n",
       "44199     313400 -0.716722\n",
       "120590    430642 -0.592520\n",
       "78518     351130  2.343821\n",
       "17059     292530  0.092329\n",
       "20404     293015 -0.788133\n",
       "8283      291220 -0.841180\n",
       "58123     315440  2.067722\n",
       "15332     292275  2.704015\n",
       "20637     293050  2.994723\n",
       "49961     314225  0.829105\n",
       "87953     352330  0.169988\n",
       "91351     352770 -1.165093\n",
       "118422    430485  2.544858\n",
       "102829    354360  2.779892\n",
       "81078     351495 -2.164277\n",
       "3573      290530  0.450487\n",
       "32572     311547  2.401747\n",
       "69796     350010  0.897698\n",
       "94612     353230 -1.995062\n",
       "92386     352930 -2.648074\n",
       "75914     350810  0.838031\n",
       "121305    430695  1.088073\n",
       "59033     315590  0.992447"
      ]
     },
     "execution_count": 256,
     "metadata": {},
     "output_type": "execute_result"
    }
   ],
   "source": [
    "b.head(35)"
   ]
  },
  {
   "cell_type": "markdown",
   "metadata": {},
   "source": [
    "### Há 35 municípios onde o erro situa-se entre -3 & 3 porcento -- Random Forest"
   ]
  },
  {
   "cell_type": "code",
   "execution_count": 257,
   "metadata": {},
   "outputs": [
    {
     "data": {
      "image/png": "[encoded data removed]",
      "text/plain": [
       "<Figure size 1152x576 with 1 Axes>"
      ]
     },
     "metadata": {
      "needs_background": "light"
     },
     "output_type": "display_data"
    }
   ],
   "source": [
    "plt.scatter(X_test['cod_muni'], errop2, c = \"blue\", marker = \"s\")\n",
    "plt.title(\"Random_Forest_cod_muni x erro -- Doença = K40\")\n",
    "plt.xlabel(\"cod_muni\")\n",
    "plt.ylabel(\"errop2\")\n",
    "plt.show()"
   ]
  },
  {
   "cell_type": "code",
   "execution_count": 258,
   "metadata": {},
   "outputs": [
    {
     "data": {
      "image/png": "[encoded data removed]",
      "text/plain": [
       "<Figure size 1152x576 with 1 Axes>"
      ]
     },
     "metadata": {
      "needs_background": "light"
     },
     "output_type": "display_data"
    }
   ],
   "source": [
    "errop2.hist()\n",
    "plt.title(\"Distribuição erro percentual2 -- Doença = K40\")\n",
    "plt.xlabel(\"errop2_Random_Forest\")\n",
    "plt.ylabel(\"ocorrência errop2\")\n",
    "plt.show()"
   ]
  },
  {
   "cell_type": "markdown",
   "metadata": {},
   "source": [
    "### Uso inicial dos algoritmos GBoosting"
   ]
  },
  {
   "cell_type": "markdown",
   "metadata": {},
   "source": [
    "### Otimização de parâmetros"
   ]
  },
  {
   "cell_type": "code",
   "execution_count": 259,
   "metadata": {},
   "outputs": [],
   "source": [
    "# Light & XG Boosting\n",
    "params= {\n",
    "    'booster': [\"gbtree\",\"gblinear\",'dart'],\n",
    "    'learning rate': [0.05, 0.1, 0.2, 0.3, 0.4, 0.5],\n",
    "    'max depth': [3,4,5,8,10,11,12],\n",
    "    'min_child_weigth': [1,3,5,7],\n",
    "    'gamma': [0, 0.1, 0.2, 0.3, 0.4],\n",
    "    'colsample_bytree': [0.3,0.4,0.5,0.6]\n",
    "}"
   ]
  },
  {
   "cell_type": "code",
   "execution_count": 260,
   "metadata": {},
   "outputs": [],
   "source": [
    "# Gradient Boosting\n",
    "params0= {\n",
    "    'min_samples_split': [300,400,500],\n",
    "    'min_samples_leaf': [30,40,50],\n",
    "    'min_weight_fraction_leaf': [0, 0.1, 0.2, 0.3, 0.4],\n",
    "    'max_depth': [5,6,7,8],\n",
    "    'subsample': [0.6,0.7,0.8],\n",
    "    'learning_rate' : [0.09, 0.1, 0.15]\n",
    "}"
   ]
  },
  {
   "cell_type": "code",
   "execution_count": 261,
   "metadata": {},
   "outputs": [],
   "source": [
    "# Adaptative Boosting\n",
    "params1= {\n",
    "    'n_estimators': [30,40,50],\n",
    "    'learning_rate' : [0.09, 0.1, 0.15]\n",
    "}"
   ]
  },
  {
   "cell_type": "code",
   "execution_count": 262,
   "metadata": {},
   "outputs": [
    {
     "name": "stdout",
     "output_type": "stream",
     "text": [
      "*****************ClassifiersDone*****************\n"
     ]
    }
   ],
   "source": [
    "# GradientBoostingClassifier\n",
    "from sklearn.ensemble import GradientBoostingRegressor\n",
    "gbr = GradientBoostingRegressor(random_state=0)\n",
    "gbr.fit(X_train, y_train)\n",
    "import lightgbm as lgb\n",
    "lgb = lgb.LGBMRegressor(learning_rate = 0.001, \n",
    "                              num_leaves = 65,  \n",
    "                              n_estimators = 100)                       \n",
    "lgb.fit(X_train, y_train)\n",
    " # XGBoost\n",
    "import xgboost as xgb\n",
    "xgb= xgb.XGBRegressor(learning_rate=0.001,\n",
    "                            max_depth = 1, \n",
    "                            n_estimators = 100)\n",
    "xgb.fit(X_train, y_train)\n",
    "# AdaBoost\n",
    "from sklearn.ensemble import AdaBoostRegressor\n",
    "from sklearn.tree import DecisionTreeRegressor\n",
    "ada = AdaBoostRegressor(\n",
    "    DecisionTreeRegressor(max_depth=1), n_estimators=100,\n",
    "    learning_rate=0.001)\n",
    "ada.fit(X_train, y_train)\n",
    "\n",
    "print('*****************ClassifiersDone*****************')"
   ]
  },
  {
   "cell_type": "code",
   "execution_count": 263,
   "metadata": {},
   "outputs": [],
   "source": [
    "# Random Search & Cross Validation\n",
    "random_search_gbr = RandomizedSearchCV(gbr,param_distributions=params0,n_iter=5,n_jobs=-1,cv=5,verbose=3)\n",
    "random_search_lgb = RandomizedSearchCV(lgb,param_distributions=params,n_iter=5,n_jobs=-1,cv=5,verbose=3)\n",
    "random_search_xgb = RandomizedSearchCV(xgb,param_distributions=params,n_iter=5,n_jobs=-1,cv=5,verbose=3)\n",
    "random_search_ada = RandomizedSearchCV(ada,param_distributions=params1,n_iter=5,n_jobs=-1,cv=5,verbose=3)"
   ]
  },
  {
   "cell_type": "code",
   "execution_count": 264,
   "metadata": {},
   "outputs": [
    {
     "name": "stdout",
     "output_type": "stream",
     "text": [
      "Fitting 5 folds for each of 5 candidates, totalling 25 fits\n"
     ]
    },
    {
     "name": "stderr",
     "output_type": "stream",
     "text": [
      "[Parallel(n_jobs=-1)]: Using backend LokyBackend with 8 concurrent workers.\n",
      "[Parallel(n_jobs=-1)]: Done  19 out of  25 | elapsed:    0.7s remaining:    0.1s\n",
      "[Parallel(n_jobs=-1)]: Done  25 out of  25 | elapsed:    0.8s finished\n"
     ]
    },
    {
     "name": "stdout",
     "output_type": "stream",
     "text": [
      "Fitting 5 folds for each of 5 candidates, totalling 25 fits\n"
     ]
    },
    {
     "name": "stderr",
     "output_type": "stream",
     "text": [
      "[Parallel(n_jobs=-1)]: Using backend LokyBackend with 8 concurrent workers.\n",
      "[Parallel(n_jobs=-1)]: Done  19 out of  25 | elapsed:    1.5s remaining:    0.4s\n",
      "[Parallel(n_jobs=-1)]: Done  25 out of  25 | elapsed:    1.6s finished\n"
     ]
    },
    {
     "name": "stdout",
     "output_type": "stream",
     "text": [
      "Fitting 5 folds for each of 5 candidates, totalling 25 fits\n"
     ]
    },
    {
     "name": "stderr",
     "output_type": "stream",
     "text": [
      "[Parallel(n_jobs=-1)]: Using backend LokyBackend with 8 concurrent workers.\n",
      "C:\\Users\\aferr\\Anaconda3\\lib\\site-packages\\joblib\\externals\\loky\\process_executor.py:706: UserWarning:\n",
      "\n",
      "A worker stopped while some jobs were given to the executor. This can be caused by a too short worker timeout or by a memory leak.\n",
      "\n",
      "[Parallel(n_jobs=-1)]: Done  19 out of  25 | elapsed:    5.1s remaining:    1.5s\n",
      "[Parallel(n_jobs=-1)]: Done  25 out of  25 | elapsed:   11.6s finished\n",
      "[Parallel(n_jobs=-1)]: Using backend LokyBackend with 8 concurrent workers.\n"
     ]
    },
    {
     "name": "stdout",
     "output_type": "stream",
     "text": [
      "[23:34:16] WARNING: C:\\Users\\Administrator\\workspace\\xgboost-win64_release_1.2.0\\src\\learner.cc:516: \n",
      "Parameters: { colsample_bylevel, colsample_bynode, colsample_bytree, gamma, interaction_constraints, learning rate, max depth, max_delta_step, max_depth, min_child_weight, min_child_weigth, monotone_constraints, num_parallel_tree, subsample, tree_method } might not be used.\n",
      "\n",
      "  This may not be accurate due to some parameters are only used in language bindings but\n",
      "  passed down to XGBoost core.  Or some parameters are not used but slip through this\n",
      "  verification. Please open an issue if you find above cases.\n",
      "\n",
      "\n",
      "Fitting 5 folds for each of 5 candidates, totalling 25 fits\n"
     ]
    },
    {
     "name": "stderr",
     "output_type": "stream",
     "text": [
      "[Parallel(n_jobs=-1)]: Done  19 out of  25 | elapsed:    1.0s remaining:    0.3s\n",
      "[Parallel(n_jobs=-1)]: Done  25 out of  25 | elapsed:    4.4s finished\n"
     ]
    },
    {
     "data": {
      "text/plain": [
       "RandomizedSearchCV(cv=5, error_score='raise-deprecating',\n",
       "                   estimator=AdaBoostRegressor(base_estimator=DecisionTreeRegressor(criterion='mse',\n",
       "                                                                                    max_depth=1,\n",
       "                                                                                    max_features=None,\n",
       "                                                                                    max_leaf_nodes=None,\n",
       "                                                                                    min_impurity_decrease=0.0,\n",
       "                                                                                    min_impurity_split=None,\n",
       "                                                                                    min_samples_leaf=1,\n",
       "                                                                                    min_samples_split=2,\n",
       "                                                                                    min_weight_fraction_leaf=0.0,\n",
       "                                                                                    presort=False,\n",
       "                                                                                    random_state=None,\n",
       "                                                                                    splitter='best'),\n",
       "                                               learning_rate=0.001,\n",
       "                                               loss='linear', n_estimators=100,\n",
       "                                               random_state=None),\n",
       "                   iid='warn', n_iter=5, n_jobs=-1,\n",
       "                   param_distributions={'learning_rate': [0.09, 0.1, 0.15],\n",
       "                                        'n_estimators': [30, 40, 50]},\n",
       "                   pre_dispatch='2*n_jobs', random_state=None, refit=True,\n",
       "                   return_train_score=False, scoring=None, verbose=3)"
      ]
     },
     "execution_count": 264,
     "metadata": {},
     "output_type": "execute_result"
    }
   ],
   "source": [
    "random_search_gbr.fit(X_train, y_train)\n",
    "random_search_lgb.fit(X_train, y_train)\n",
    "random_search_xgb.fit(X_train, y_train)\n",
    "random_search_ada.fit(X_train, y_train)"
   ]
  },
  {
   "cell_type": "code",
   "execution_count": 265,
   "metadata": {},
   "outputs": [
    {
     "name": "stdout",
     "output_type": "stream",
     "text": [
      "GradientBoostingRegressor(alpha=0.9, criterion='friedman_mse', init=None,\n",
      "                          learning_rate=0.09, loss='ls', max_depth=6,\n",
      "                          max_features=None, max_leaf_nodes=None,\n",
      "                          min_impurity_decrease=0.0, min_impurity_split=None,\n",
      "                          min_samples_leaf=40, min_samples_split=500,\n",
      "                          min_weight_fraction_leaf=0.1, n_estimators=100,\n",
      "                          n_iter_no_change=None, presort='auto', random_state=0,\n",
      "                          subsample=0.6, tol=0.0001, validation_fraction=0.1,\n",
      "                          verbose=0, warm_start=False)\n"
     ]
    }
   ],
   "source": [
    "print(random_search_gbr.best_estimator_)"
   ]
  },
  {
   "cell_type": "code",
   "execution_count": 266,
   "metadata": {},
   "outputs": [
    {
     "name": "stdout",
     "output_type": "stream",
     "text": [
      "LGBMRegressor(booster='gblinear', boosting_type='gbdt', class_weight=None,\n",
      "              colsample_bytree=0.5, gamma=0, importance_type='split',\n",
      "              learning rate=0.1, learning_rate=0.001, max depth=3, max_depth=-1,\n",
      "              min_child_samples=20, min_child_weight=0.001, min_child_weigth=5,\n",
      "              min_split_gain=0.0, n_estimators=100, n_jobs=-1, num_leaves=65,\n",
      "              objective=None, random_state=None, reg_alpha=0.0, reg_lambda=0.0,\n",
      "              silent=True, subsample=1.0, subsample_for_bin=200000,\n",
      "              subsample_freq=0)\n"
     ]
    }
   ],
   "source": [
    "print(random_search_lgb.best_estimator_)"
   ]
  },
  {
   "cell_type": "code",
   "execution_count": 267,
   "metadata": {},
   "outputs": [
    {
     "name": "stdout",
     "output_type": "stream",
     "text": [
      "XGBRegressor(base_score=0.5, booster='gblinear', colsample_bylevel=1,\n",
      "             colsample_bynode=1, colsample_bytree=0.5, gamma=0.3, gpu_id=-1,\n",
      "             importance_type='gain', interaction_constraints='',\n",
      "             learning rate=0.2, learning_rate=0.001, max depth=10,\n",
      "             max_delta_step=0, max_depth=1, min_child_weight=1,\n",
      "             min_child_weigth=5, missing=nan, monotone_constraints='()',\n",
      "             n_estimators=100, n_jobs=0, num_parallel_tree=1,\n",
      "             objective='reg:squarederror', random_state=0, reg_alpha=0,\n",
      "             reg_lambda=1, scale_pos_weight=1, subsample=1, tree_method='exact',\n",
      "             validate_parameters=1, verbosity=None)\n"
     ]
    }
   ],
   "source": [
    "print(random_search_xgb.best_estimator_)"
   ]
  },
  {
   "cell_type": "code",
   "execution_count": 268,
   "metadata": {},
   "outputs": [
    {
     "name": "stdout",
     "output_type": "stream",
     "text": [
      "AdaBoostRegressor(base_estimator=DecisionTreeRegressor(criterion='mse',\n",
      "                                                       max_depth=1,\n",
      "                                                       max_features=None,\n",
      "                                                       max_leaf_nodes=None,\n",
      "                                                       min_impurity_decrease=0.0,\n",
      "                                                       min_impurity_split=None,\n",
      "                                                       min_samples_leaf=1,\n",
      "                                                       min_samples_split=2,\n",
      "                                                       min_weight_fraction_leaf=0.0,\n",
      "                                                       presort=False,\n",
      "                                                       random_state=None,\n",
      "                                                       splitter='best'),\n",
      "                  learning_rate=0.09, loss='linear', n_estimators=30,\n",
      "                  random_state=None)\n"
     ]
    }
   ],
   "source": [
    "print(random_search_ada.best_estimator_)"
   ]
  },
  {
   "cell_type": "code",
   "execution_count": 269,
   "metadata": {},
   "outputs": [],
   "source": [
    "from sklearn.model_selection import cross_val_score\n",
    "score_gbr=cross_val_score(gbr,X,y,cv=10)\n",
    "score_lgb=cross_val_score(lgb,X,y,cv=10)\n",
    "score_xgb=cross_val_score(xgb,X,y,cv=10)\n",
    "score_ada=cross_val_score(ada,X,y,cv=10)"
   ]
  },
  {
   "cell_type": "markdown",
   "metadata": {},
   "source": [
    "### Gradient Boosting"
   ]
  },
  {
   "cell_type": "code",
   "execution_count": 270,
   "metadata": {},
   "outputs": [],
   "source": [
    "m_gbr = GradientBoostingRegressor(alpha=0.9, criterion='friedman_mse', init=None,\n",
    "                          learning_rate=0.1, loss='ls', max_depth=6,\n",
    "                          max_features=None, max_leaf_nodes=None,\n",
    "                          min_impurity_decrease=0.0, min_impurity_split=None,\n",
    "                          min_samples_leaf=40, min_samples_split=400,\n",
    "                          min_weight_fraction_leaf=0.1, n_estimators=100,\n",
    "                          n_iter_no_change=None, presort='auto', random_state=0,\n",
    "                          subsample=0.7, tol=0.0001, validation_fraction=0.1,\n",
    "                          verbose=0, warm_start=False)"
   ]
  },
  {
   "cell_type": "code",
   "execution_count": 271,
   "metadata": {},
   "outputs": [
    {
     "data": {
      "text/plain": [
       "GradientBoostingRegressor(alpha=0.9, criterion='friedman_mse', init=None,\n",
       "                          learning_rate=0.1, loss='ls', max_depth=6,\n",
       "                          max_features=None, max_leaf_nodes=None,\n",
       "                          min_impurity_decrease=0.0, min_impurity_split=None,\n",
       "                          min_samples_leaf=40, min_samples_split=400,\n",
       "                          min_weight_fraction_leaf=0.1, n_estimators=100,\n",
       "                          n_iter_no_change=None, presort='auto', random_state=0,\n",
       "                          subsample=0.7, tol=0.0001, validation_fraction=0.1,\n",
       "                          verbose=0, warm_start=False)"
      ]
     },
     "execution_count": 271,
     "metadata": {},
     "output_type": "execute_result"
    }
   ],
   "source": [
    "m_gbr.fit(X_train,y_train)"
   ]
  },
  {
   "cell_type": "code",
   "execution_count": 272,
   "metadata": {},
   "outputs": [],
   "source": [
    "y_pred_gbr = m_gbr.predict(X_test)"
   ]
  },
  {
   "cell_type": "code",
   "execution_count": 273,
   "metadata": {},
   "outputs": [
    {
     "name": "stdout",
     "output_type": "stream",
     "text": [
      "4.67e-06\n"
     ]
    }
   ],
   "source": [
    "mse_gbr = round(mean_squared_error(y_test, y_pred_gbr),8)\n",
    "print(mse_gbr)"
   ]
  },
  {
   "cell_type": "code",
   "execution_count": 274,
   "metadata": {},
   "outputs": [],
   "source": [
    "errop2= (y_test - y_pred_gbr)*100/y_test\n",
    "# em porcentagem"
   ]
  },
  {
   "cell_type": "code",
   "execution_count": 275,
   "metadata": {},
   "outputs": [
    {
     "data": {
      "image/png": "[encoded data removed]",
      "text/plain": [
       "<Figure size 1152x576 with 1 Axes>"
      ]
     },
     "metadata": {
      "needs_background": "light"
     },
     "output_type": "display_data"
    }
   ],
   "source": [
    "plt.scatter(X_test['cod_muni'], errop2, c = \"blue\", marker = \"s\")\n",
    "plt.title(\"GradientBoost_cod_muni x erro -- Doença = K40\")\n",
    "plt.xlabel(\"cod_muni\")\n",
    "plt.ylabel(\"errop2\")\n",
    "plt.show()"
   ]
  },
  {
   "cell_type": "code",
   "execution_count": 276,
   "metadata": {},
   "outputs": [
    {
     "data": {
      "image/png": "[encoded data removed]",
      "text/plain": [
       "<Figure size 1152x576 with 1 Axes>"
      ]
     },
     "metadata": {
      "needs_background": "light"
     },
     "output_type": "display_data"
    }
   ],
   "source": [
    "errop2.hist()\n",
    "plt.title(\"Distribuição erro percentual2 -- Doença = K40\")\n",
    "plt.xlabel(\"errop2\")\n",
    "plt.ylabel(\"ocorrência errop2\")\n",
    "plt.show()"
   ]
  },
  {
   "cell_type": "markdown",
   "metadata": {},
   "source": [
    "### Light Gradient Boosting"
   ]
  },
  {
   "cell_type": "code",
   "execution_count": 277,
   "metadata": {},
   "outputs": [],
   "source": [
    "from lightgbm import LGBMRegressor\n",
    "m_lgb = LGBMRegressor(boosting_type='gbdt', class_weight=None,\n",
    "              colsample_bytree=0.4, gamma=0.3, importance_type='split',\n",
    "              learning_rate=0.1, max_depth=8,\n",
    "              min_child_samples=20, min_child_weight=0.001,\n",
    "              min_split_gain=0.0, n_estimators=100, n_jobs=-1, num_leaves=65,\n",
    "              objective='regression', random_state=None, reg_alpha=0.0, reg_lambda=0.0,\n",
    "              silent=True, subsample=1.0, subsample_for_bin=200000,\n",
    "              subsample_freq=0)"
   ]
  },
  {
   "cell_type": "code",
   "execution_count": 278,
   "metadata": {},
   "outputs": [
    {
     "data": {
      "text/plain": [
       "LGBMRegressor(boosting_type='gbdt', class_weight=None, colsample_bytree=0.4,\n",
       "              gamma=0.3, importance_type='split', learning_rate=0.1,\n",
       "              max_depth=8, min_child_samples=20, min_child_weight=0.001,\n",
       "              min_split_gain=0.0, n_estimators=100, n_jobs=-1, num_leaves=65,\n",
       "              objective='regression', random_state=None, reg_alpha=0.0,\n",
       "              reg_lambda=0.0, silent=True, subsample=1.0,\n",
       "              subsample_for_bin=200000, subsample_freq=0)"
      ]
     },
     "execution_count": 278,
     "metadata": {},
     "output_type": "execute_result"
    }
   ],
   "source": [
    "m_lgb.fit(X_train,y_train)"
   ]
  },
  {
   "cell_type": "code",
   "execution_count": 279,
   "metadata": {},
   "outputs": [],
   "source": [
    "y_pred_lgb = m_lgb.predict(X_test)"
   ]
  },
  {
   "cell_type": "code",
   "execution_count": 280,
   "metadata": {},
   "outputs": [
    {
     "name": "stdout",
     "output_type": "stream",
     "text": [
      "4.86e-06\n"
     ]
    }
   ],
   "source": [
    "mse_lgb = round(mean_squared_error(y_test, y_pred_lgb),8)\n",
    "print(mse_lgb)"
   ]
  },
  {
   "cell_type": "code",
   "execution_count": 281,
   "metadata": {},
   "outputs": [],
   "source": [
    "errop2= (y_test - y_pred_lgb)*100/y_test\n",
    "# em porcentagem"
   ]
  },
  {
   "cell_type": "code",
   "execution_count": 282,
   "metadata": {},
   "outputs": [
    {
     "data": {
      "image/png": "[encoded data removed]",
      "text/plain": [
       "<Figure size 1152x576 with 1 Axes>"
      ]
     },
     "metadata": {
      "needs_background": "light"
     },
     "output_type": "display_data"
    }
   ],
   "source": [
    "plt.scatter(X_test['cod_muni'], errop2, c = \"blue\", marker = \"s\")\n",
    "plt.title(\"GradientBoost_cod_muni x erro -- Doença = K40\")\n",
    "plt.xlabel(\"cod_muni\")\n",
    "plt.ylabel(\"errop2\")\n",
    "plt.show()"
   ]
  },
  {
   "cell_type": "code",
   "execution_count": 283,
   "metadata": {},
   "outputs": [
    {
     "data": {
      "image/png": "[encoded data removed]",
      "text/plain": [
       "<Figure size 1152x576 with 1 Axes>"
      ]
     },
     "metadata": {
      "needs_background": "light"
     },
     "output_type": "display_data"
    }
   ],
   "source": [
    "errop2.hist()\n",
    "plt.title(\"Distribuição erro percentual2 -- Doença = K40\")\n",
    "plt.xlabel(\"errop2\")\n",
    "plt.ylabel(\"ocorrência errop2\")\n",
    "plt.show()"
   ]
  },
  {
   "cell_type": "markdown",
   "metadata": {},
   "source": [
    "### XGBoosting"
   ]
  },
  {
   "cell_type": "code",
   "execution_count": 284,
   "metadata": {},
   "outputs": [],
   "source": [
    "from xgboost import XGBRegressor\n",
    "m_xgb_1= XGBRegressor(base_score=0.5, booster='dart', colsample_bylevel=1,\n",
    "             colsample_bynode=1, colsample_bytree=0.6, gamma=0, gpu_id=-1,\n",
    "             importance_type='gain', interaction_constraints='',\n",
    "             learning_rate=0.1,\n",
    "             max_delta_step=0, max_depth=4, min_child_weight=1,\n",
    "             min_child_weigth=7, missing=0.001, monotone_constraints='()',\n",
    "             n_estimators=100, n_jobs=0, num_parallel_tree=1,\n",
    "             objective='reg:squarederror', random_state=0, reg_alpha=0,\n",
    "             reg_lambda=1, scale_pos_weight=1, subsample=1, tree_method='exact',\n",
    "             validate_parameters=1, verbosity=None)"
   ]
  },
  {
   "cell_type": "code",
   "execution_count": 285,
   "metadata": {},
   "outputs": [
    {
     "name": "stdout",
     "output_type": "stream",
     "text": [
      "[23:34:39] WARNING: C:\\Users\\Administrator\\workspace\\xgboost-win64_release_1.2.0\\src\\learner.cc:516: \n",
      "Parameters: { min_child_weigth } might not be used.\n",
      "\n",
      "  This may not be accurate due to some parameters are only used in language bindings but\n",
      "  passed down to XGBoost core.  Or some parameters are not used but slip through this\n",
      "  verification. Please open an issue if you find above cases.\n",
      "\n",
      "\n"
     ]
    },
    {
     "data": {
      "text/plain": [
       "XGBRegressor(base_score=0.5, booster='dart', colsample_bylevel=1,\n",
       "             colsample_bynode=1, colsample_bytree=0.6, gamma=0, gpu_id=-1,\n",
       "             importance_type='gain', interaction_constraints='',\n",
       "             learning_rate=0.1, max_delta_step=0, max_depth=4,\n",
       "             min_child_weight=1, min_child_weigth=7, missing=0.001,\n",
       "             monotone_constraints='()', n_estimators=100, n_jobs=0,\n",
       "             num_parallel_tree=1, objective='reg:squarederror', random_state=0,\n",
       "             reg_alpha=0, reg_lambda=1, scale_pos_weight=1, subsample=1,\n",
       "             tree_method='exact', validate_parameters=1, verbosity=None)"
      ]
     },
     "execution_count": 285,
     "metadata": {},
     "output_type": "execute_result"
    }
   ],
   "source": [
    "m_xgb_1.fit(X_train,y_train)"
   ]
  },
  {
   "cell_type": "code",
   "execution_count": 286,
   "metadata": {},
   "outputs": [],
   "source": [
    "y_pred_xgb_1= m_xgb_1.predict(X_test)"
   ]
  },
  {
   "cell_type": "code",
   "execution_count": 287,
   "metadata": {},
   "outputs": [
    {
     "name": "stdout",
     "output_type": "stream",
     "text": [
      "4.65e-06\n"
     ]
    }
   ],
   "source": [
    "mse_xgb_1 = round(mean_squared_error(y_test, y_pred_xgb_1),8)\n",
    "print (mse_xgb_1)"
   ]
  },
  {
   "cell_type": "code",
   "execution_count": 288,
   "metadata": {},
   "outputs": [],
   "source": [
    "errop2= (y_test - y_pred_xgb_1)*100/y_test\n",
    "# em porcentagem"
   ]
  },
  {
   "cell_type": "code",
   "execution_count": 289,
   "metadata": {},
   "outputs": [
    {
     "data": {
      "image/png": "[encoded data removed]",
      "text/plain": [
       "<Figure size 1152x576 with 1 Axes>"
      ]
     },
     "metadata": {
      "needs_background": "light"
     },
     "output_type": "display_data"
    }
   ],
   "source": [
    "errop2.hist()\n",
    "plt.title(\"Distribuição erro percentual2 -- Doença = K40\")\n",
    "plt.xlabel(\"errop2\")\n",
    "plt.ylabel(\"ocorrência errop2\")\n",
    "plt.show()"
   ]
  },
  {
   "cell_type": "code",
   "execution_count": 290,
   "metadata": {},
   "outputs": [],
   "source": [
    "# Usando parâmetros de arquivo anterior\n",
    "from xgboost import XGBRegressor\n",
    "m_xgb_2= XGBRegressor(base_score=0.5, booster='dart', colsample_bylevel=1,\n",
    "             colsample_bynode=1, colsample_bytree=0.6, gamma=0, gpu_id=-1,\n",
    "             importance_type='gain', interaction_constraints='',\n",
    "             learning_rate=0.2, max_delta_step=0, max_depth=5,\n",
    "             min_child_weight=1, missing=0.001, monotone_constraints='()',\n",
    "             n_estimators=100, n_jobs=0, num_parallel_tree=1,\n",
    "             objective='reg:squarederror', random_state=42, reg_alpha=0,\n",
    "             reg_lambda=1, scale_pos_weight=1, seed=42, subsample=1,\n",
    "             tree_method='exact', validate_parameters=1, verbosity=None)"
   ]
  },
  {
   "cell_type": "code",
   "execution_count": 291,
   "metadata": {},
   "outputs": [
    {
     "data": {
      "text/plain": [
       "XGBRegressor(base_score=0.5, booster='dart', colsample_bylevel=1,\n",
       "             colsample_bynode=1, colsample_bytree=0.6, gamma=0, gpu_id=-1,\n",
       "             importance_type='gain', interaction_constraints='',\n",
       "             learning_rate=0.2, max_delta_step=0, max_depth=5,\n",
       "             min_child_weight=1, missing=0.001, monotone_constraints='()',\n",
       "             n_estimators=100, n_jobs=0, num_parallel_tree=1,\n",
       "             objective='reg:squarederror', random_state=42, reg_alpha=0,\n",
       "             reg_lambda=1, scale_pos_weight=1, seed=42, subsample=1,\n",
       "             tree_method='exact', validate_parameters=1, verbosity=None)"
      ]
     },
     "execution_count": 291,
     "metadata": {},
     "output_type": "execute_result"
    }
   ],
   "source": [
    "m_xgb_2.fit(X_train,y_train)"
   ]
  },
  {
   "cell_type": "code",
   "execution_count": 292,
   "metadata": {},
   "outputs": [],
   "source": [
    "y_pred_xgb_2= m_xgb_2.predict(X_test)"
   ]
  },
  {
   "cell_type": "code",
   "execution_count": 293,
   "metadata": {},
   "outputs": [
    {
     "name": "stdout",
     "output_type": "stream",
     "text": [
      "5.03e-06\n"
     ]
    }
   ],
   "source": [
    "mse_xgb_2 = round(mean_squared_error(y_test, y_pred_xgb_2),8)\n",
    "print(mse_xgb_2)"
   ]
  },
  {
   "cell_type": "code",
   "execution_count": 294,
   "metadata": {},
   "outputs": [
    {
     "name": "stdout",
     "output_type": "stream",
     "text": [
      "-21.35650592832085 63.91948927762171\n"
     ]
    }
   ],
   "source": [
    "errop2= (y_test - y_pred_xgb_2)*100/y_test\n",
    "# em porcentagem\n",
    "media=np.mean(errop2)\n",
    "desvio=np.std(errop2)\n",
    "print(media, desvio)"
   ]
  },
  {
   "cell_type": "markdown",
   "metadata": {},
   "source": [
    "### Identificação dos municípios com erro percentual entre -3 & 3 porcento -- XGBoosting"
   ]
  },
  {
   "cell_type": "code",
   "execution_count": 295,
   "metadata": {},
   "outputs": [],
   "source": [
    "frame = { 'cod_muni': X_test['cod_muni'], \"errop2\": errop2 } \n",
    "result = pd.DataFrame(frame) "
   ]
  },
  {
   "cell_type": "code",
   "execution_count": 296,
   "metadata": {},
   "outputs": [],
   "source": [
    "a=result[result['errop2'] >-3]"
   ]
  },
  {
   "cell_type": "code",
   "execution_count": 297,
   "metadata": {},
   "outputs": [],
   "source": [
    "b_rf=a[a['errop2'] <3]"
   ]
  },
  {
   "cell_type": "code",
   "execution_count": 298,
   "metadata": {},
   "outputs": [
    {
     "name": "stdout",
     "output_type": "stream",
     "text": [
      "<class 'pandas.core.frame.DataFrame'>\n",
      "Int64Index: 35 entries, 79086 to 59033\n",
      "Data columns (total 2 columns):\n",
      "cod_muni    35 non-null int64\n",
      "errop2      35 non-null float64\n",
      "dtypes: float64(1), int64(1)\n",
      "memory usage: 840.0 bytes\n"
     ]
    }
   ],
   "source": [
    "b.info()"
   ]
  },
  {
   "cell_type": "code",
   "execution_count": 299,
   "metadata": {},
   "outputs": [
    {
     "data": {
      "text/html": [
       "<div>\n",
       "<style scoped>\n",
       "    .dataframe tbody tr th:only-of-type {\n",
       "        vertical-align: middle;\n",
       "    }\n",
       "\n",
       "    .dataframe tbody tr th {\n",
       "        vertical-align: top;\n",
       "    }\n",
       "\n",
       "    .dataframe thead th {\n",
       "        text-align: right;\n",
       "    }\n",
       "</style>\n",
       "<table border=\"1\" class=\"dataframe\">\n",
       "  <thead>\n",
       "    <tr style=\"text-align: right;\">\n",
       "      <th></th>\n",
       "      <th>cod_muni</th>\n",
       "      <th>errop2</th>\n",
       "    </tr>\n",
       "  </thead>\n",
       "  <tbody>\n",
       "    <tr>\n",
       "      <td>79086</td>\n",
       "      <td>351220</td>\n",
       "      <td>-1.366356</td>\n",
       "    </tr>\n",
       "    <tr>\n",
       "      <td>83426</td>\n",
       "      <td>351780</td>\n",
       "      <td>-0.277848</td>\n",
       "    </tr>\n",
       "    <tr>\n",
       "      <td>88296</td>\n",
       "      <td>352380</td>\n",
       "      <td>1.000170</td>\n",
       "    </tr>\n",
       "    <tr>\n",
       "      <td>81258</td>\n",
       "      <td>351510</td>\n",
       "      <td>-0.797354</td>\n",
       "    </tr>\n",
       "    <tr>\n",
       "      <td>54635</td>\n",
       "      <td>314880</td>\n",
       "      <td>-0.994240</td>\n",
       "    </tr>\n",
       "    <tr>\n",
       "      <td>120717</td>\n",
       "      <td>430655</td>\n",
       "      <td>1.730246</td>\n",
       "    </tr>\n",
       "    <tr>\n",
       "      <td>93047</td>\n",
       "      <td>353020</td>\n",
       "      <td>-1.498908</td>\n",
       "    </tr>\n",
       "    <tr>\n",
       "      <td>136284</td>\n",
       "      <td>432000</td>\n",
       "      <td>0.336745</td>\n",
       "    </tr>\n",
       "    <tr>\n",
       "      <td>746</td>\n",
       "      <td>290130</td>\n",
       "      <td>-0.596848</td>\n",
       "    </tr>\n",
       "    <tr>\n",
       "      <td>98420</td>\n",
       "      <td>353760</td>\n",
       "      <td>-1.338822</td>\n",
       "    </tr>\n",
       "    <tr>\n",
       "      <td>56772</td>\n",
       "      <td>315213</td>\n",
       "      <td>0.911073</td>\n",
       "    </tr>\n",
       "    <tr>\n",
       "      <td>116979</td>\n",
       "      <td>430367</td>\n",
       "      <td>-2.733485</td>\n",
       "    </tr>\n",
       "    <tr>\n",
       "      <td>44199</td>\n",
       "      <td>313400</td>\n",
       "      <td>-0.716722</td>\n",
       "    </tr>\n",
       "    <tr>\n",
       "      <td>120590</td>\n",
       "      <td>430642</td>\n",
       "      <td>-0.592520</td>\n",
       "    </tr>\n",
       "    <tr>\n",
       "      <td>78518</td>\n",
       "      <td>351130</td>\n",
       "      <td>2.343821</td>\n",
       "    </tr>\n",
       "    <tr>\n",
       "      <td>17059</td>\n",
       "      <td>292530</td>\n",
       "      <td>0.092329</td>\n",
       "    </tr>\n",
       "    <tr>\n",
       "      <td>20404</td>\n",
       "      <td>293015</td>\n",
       "      <td>-0.788133</td>\n",
       "    </tr>\n",
       "    <tr>\n",
       "      <td>8283</td>\n",
       "      <td>291220</td>\n",
       "      <td>-0.841180</td>\n",
       "    </tr>\n",
       "    <tr>\n",
       "      <td>58123</td>\n",
       "      <td>315440</td>\n",
       "      <td>2.067722</td>\n",
       "    </tr>\n",
       "    <tr>\n",
       "      <td>15332</td>\n",
       "      <td>292275</td>\n",
       "      <td>2.704015</td>\n",
       "    </tr>\n",
       "    <tr>\n",
       "      <td>20637</td>\n",
       "      <td>293050</td>\n",
       "      <td>2.994723</td>\n",
       "    </tr>\n",
       "    <tr>\n",
       "      <td>49961</td>\n",
       "      <td>314225</td>\n",
       "      <td>0.829105</td>\n",
       "    </tr>\n",
       "    <tr>\n",
       "      <td>87953</td>\n",
       "      <td>352330</td>\n",
       "      <td>0.169988</td>\n",
       "    </tr>\n",
       "    <tr>\n",
       "      <td>91351</td>\n",
       "      <td>352770</td>\n",
       "      <td>-1.165093</td>\n",
       "    </tr>\n",
       "    <tr>\n",
       "      <td>118422</td>\n",
       "      <td>430485</td>\n",
       "      <td>2.544858</td>\n",
       "    </tr>\n",
       "    <tr>\n",
       "      <td>102829</td>\n",
       "      <td>354360</td>\n",
       "      <td>2.779892</td>\n",
       "    </tr>\n",
       "    <tr>\n",
       "      <td>81078</td>\n",
       "      <td>351495</td>\n",
       "      <td>-2.164277</td>\n",
       "    </tr>\n",
       "    <tr>\n",
       "      <td>3573</td>\n",
       "      <td>290530</td>\n",
       "      <td>0.450487</td>\n",
       "    </tr>\n",
       "    <tr>\n",
       "      <td>32572</td>\n",
       "      <td>311547</td>\n",
       "      <td>2.401747</td>\n",
       "    </tr>\n",
       "    <tr>\n",
       "      <td>69796</td>\n",
       "      <td>350010</td>\n",
       "      <td>0.897698</td>\n",
       "    </tr>\n",
       "    <tr>\n",
       "      <td>94612</td>\n",
       "      <td>353230</td>\n",
       "      <td>-1.995062</td>\n",
       "    </tr>\n",
       "    <tr>\n",
       "      <td>92386</td>\n",
       "      <td>352930</td>\n",
       "      <td>-2.648074</td>\n",
       "    </tr>\n",
       "    <tr>\n",
       "      <td>75914</td>\n",
       "      <td>350810</td>\n",
       "      <td>0.838031</td>\n",
       "    </tr>\n",
       "    <tr>\n",
       "      <td>121305</td>\n",
       "      <td>430695</td>\n",
       "      <td>1.088073</td>\n",
       "    </tr>\n",
       "    <tr>\n",
       "      <td>59033</td>\n",
       "      <td>315590</td>\n",
       "      <td>0.992447</td>\n",
       "    </tr>\n",
       "  </tbody>\n",
       "</table>\n",
       "</div>"
      ],
      "text/plain": [
       "        cod_muni    errop2\n",
       "79086     351220 -1.366356\n",
       "83426     351780 -0.277848\n",
       "88296     352380  1.000170\n",
       "81258     351510 -0.797354\n",
       "54635     314880 -0.994240\n",
       "120717    430655  1.730246\n",
       "93047     353020 -1.498908\n",
       "136284    432000  0.336745\n",
       "746       290130 -0.596848\n",
       "98420     353760 -1.338822\n",
       "56772     315213  0.911073\n",
       "116979    430367 -2.733485\n",
       "44199     313400 -0.716722\n",
       "120590    430642 -0.592520\n",
       "78518     351130  2.343821\n",
       "17059     292530  0.092329\n",
       "20404     293015 -0.788133\n",
       "8283      291220 -0.841180\n",
       "58123     315440  2.067722\n",
       "15332     292275  2.704015\n",
       "20637     293050  2.994723\n",
       "49961     314225  0.829105\n",
       "87953     352330  0.169988\n",
       "91351     352770 -1.165093\n",
       "118422    430485  2.544858\n",
       "102829    354360  2.779892\n",
       "81078     351495 -2.164277\n",
       "3573      290530  0.450487\n",
       "32572     311547  2.401747\n",
       "69796     350010  0.897698\n",
       "94612     353230 -1.995062\n",
       "92386     352930 -2.648074\n",
       "75914     350810  0.838031\n",
       "121305    430695  1.088073\n",
       "59033     315590  0.992447"
      ]
     },
     "execution_count": 299,
     "metadata": {},
     "output_type": "execute_result"
    }
   ],
   "source": [
    "b.head(35)"
   ]
  },
  {
   "cell_type": "code",
   "execution_count": 300,
   "metadata": {},
   "outputs": [
    {
     "data": {
      "image/png": "[encoded data removed]",
      "text/plain": [
       "<Figure size 1152x576 with 1 Axes>"
      ]
     },
     "metadata": {
      "needs_background": "light"
     },
     "output_type": "display_data"
    }
   ],
   "source": [
    "plt.scatter(X_test['cod_muni'], errop2, c = \"blue\", marker = \"s\")\n",
    "plt.title(\"XGBoost_2_cod_muni x erro -- Doença = K40\")\n",
    "plt.xlabel(\"cod_muni\")\n",
    "plt.ylabel(\"errop2\")\n",
    "plt.show()"
   ]
  },
  {
   "cell_type": "code",
   "execution_count": 301,
   "metadata": {},
   "outputs": [
    {
     "data": {
      "image/png": "[encoded data removed]",
      "text/plain": [
       "<Figure size 1152x576 with 1 Axes>"
      ]
     },
     "metadata": {
      "needs_background": "light"
     },
     "output_type": "display_data"
    }
   ],
   "source": [
    "errop2.hist()\n",
    "plt.title(\"XGBoost_2_Distribuição erro percentual2 -- Doença = K40\")\n",
    "plt.xlabel(\"errop2\")\n",
    "plt.ylabel(\"ocorrência errop2\")\n",
    "plt.show()"
   ]
  },
  {
   "cell_type": "markdown",
   "metadata": {},
   "source": [
    "### Adaptative Boosting"
   ]
  },
  {
   "cell_type": "code",
   "execution_count": 302,
   "metadata": {},
   "outputs": [],
   "source": [
    "m_ada = AdaBoostRegressor(base_estimator=DecisionTreeRegressor(criterion='mse',\n",
    "                                                       max_depth=4,\n",
    "                                                       max_features=None,\n",
    "                                                       max_leaf_nodes=None,\n",
    "                                                       min_impurity_decrease=0.0,\n",
    "                                                       min_impurity_split=None,\n",
    "                                                       min_samples_leaf=1,\n",
    "                                                       min_samples_split=2,\n",
    "                                                       min_weight_fraction_leaf=0.0,\n",
    "                                                       presort=False,\n",
    "                                                       random_state=None,\n",
    "                                                       splitter='best'),\n",
    "                  learning_rate=0.1, loss='linear', n_estimators=40,\n",
    "                  random_state=None)"
   ]
  },
  {
   "cell_type": "code",
   "execution_count": 303,
   "metadata": {},
   "outputs": [
    {
     "data": {
      "text/plain": [
       "AdaBoostRegressor(base_estimator=DecisionTreeRegressor(criterion='mse',\n",
       "                                                       max_depth=4,\n",
       "                                                       max_features=None,\n",
       "                                                       max_leaf_nodes=None,\n",
       "                                                       min_impurity_decrease=0.0,\n",
       "                                                       min_impurity_split=None,\n",
       "                                                       min_samples_leaf=1,\n",
       "                                                       min_samples_split=2,\n",
       "                                                       min_weight_fraction_leaf=0.0,\n",
       "                                                       presort=False,\n",
       "                                                       random_state=None,\n",
       "                                                       splitter='best'),\n",
       "                  learning_rate=0.1, loss='linear', n_estimators=40,\n",
       "                  random_state=None)"
      ]
     },
     "execution_count": 303,
     "metadata": {},
     "output_type": "execute_result"
    }
   ],
   "source": [
    "m_ada.fit(X_train,y_train)"
   ]
  },
  {
   "cell_type": "code",
   "execution_count": 304,
   "metadata": {},
   "outputs": [],
   "source": [
    "y_pred_ada = m_ada.predict(X_test)"
   ]
  },
  {
   "cell_type": "code",
   "execution_count": 305,
   "metadata": {},
   "outputs": [
    {
     "name": "stdout",
     "output_type": "stream",
     "text": [
      "4.77e-06\n"
     ]
    }
   ],
   "source": [
    "mse_ada = round(mean_squared_error(y_test, y_pred_ada),8)\n",
    "print (mse_ada)"
   ]
  },
  {
   "cell_type": "code",
   "execution_count": 306,
   "metadata": {},
   "outputs": [],
   "source": [
    "errop2= (y_test - y_pred_ada)*100/y_test\n",
    "# em porcentagem"
   ]
  },
  {
   "cell_type": "code",
   "execution_count": 307,
   "metadata": {},
   "outputs": [
    {
     "data": {
      "image/png": "[encoded data removed]",
      "text/plain": [
       "<Figure size 1152x576 with 1 Axes>"
      ]
     },
     "metadata": {
      "needs_background": "light"
     },
     "output_type": "display_data"
    }
   ],
   "source": [
    "errop2.hist()\n",
    "plt.title(\"Distribuição erro percentual2 -- Doença = K40\")\n",
    "plt.xlabel(\"errop2\")\n",
    "plt.ylabel(\"ocorrência errop2\")\n",
    "plt.show()"
   ]
  },
  {
   "cell_type": "markdown",
   "metadata": {},
   "source": [
    "### Reavaliação das Métricas - uso de acurácia (aplicação relativa)"
   ]
  },
  {
   "cell_type": "code",
   "execution_count": 308,
   "metadata": {},
   "outputs": [
    {
     "data": {
      "text/html": [
       "<div>\n",
       "<style scoped>\n",
       "    .dataframe tbody tr th:only-of-type {\n",
       "        vertical-align: middle;\n",
       "    }\n",
       "\n",
       "    .dataframe tbody tr th {\n",
       "        vertical-align: top;\n",
       "    }\n",
       "\n",
       "    .dataframe thead th {\n",
       "        text-align: right;\n",
       "    }\n",
       "</style>\n",
       "<table border=\"1\" class=\"dataframe\">\n",
       "  <thead>\n",
       "    <tr style=\"text-align: right;\">\n",
       "      <th></th>\n",
       "      <th>Mean Square Error</th>\n",
       "    </tr>\n",
       "  </thead>\n",
       "  <tbody>\n",
       "    <tr>\n",
       "      <td>Random_Forest</td>\n",
       "      <td>0.000005</td>\n",
       "    </tr>\n",
       "    <tr>\n",
       "      <td>GradientBoost</td>\n",
       "      <td>0.000005</td>\n",
       "    </tr>\n",
       "    <tr>\n",
       "      <td>LightGBM</td>\n",
       "      <td>0.000005</td>\n",
       "    </tr>\n",
       "    <tr>\n",
       "      <td>XGBoost_1</td>\n",
       "      <td>0.000005</td>\n",
       "    </tr>\n",
       "    <tr>\n",
       "      <td>XGBoost_2</td>\n",
       "      <td>0.000005</td>\n",
       "    </tr>\n",
       "    <tr>\n",
       "      <td>AdaBoost</td>\n",
       "      <td>0.000005</td>\n",
       "    </tr>\n",
       "  </tbody>\n",
       "</table>\n",
       "</div>"
      ],
      "text/plain": [
       "               Mean Square Error\n",
       "Random_Forest           0.000005\n",
       "GradientBoost           0.000005\n",
       "LightGBM                0.000005\n",
       "XGBoost_1               0.000005\n",
       "XGBoost_2               0.000005\n",
       "AdaBoost                0.000005"
      ]
     },
     "execution_count": 308,
     "metadata": {},
     "output_type": "execute_result"
    }
   ],
   "source": [
    "models=['Random_Forest','GradientBoost','LightGBM','XGBoost_1','XGBoost_2','AdaBoost']\n",
    "mse=[mse_rf,mse_gbr,mse_lgb,mse_xgb_1,mse_xgb_2,mse_ada]\n",
    "pd.DataFrame(list(zip(mse)), columns =['Mean Square Error'], index=models)"
   ]
  },
  {
   "cell_type": "markdown",
   "metadata": {},
   "source": [
    "### Conclusão = Valores de erros baixos e próximos. Valores de acurácia com diferenças razoáveis. Aprofundar sintonia dos modelos."
   ]
  },
  {
   "cell_type": "code",
   "execution_count": null,
   "metadata": {},
   "outputs": [],
   "source": []
  }
 ],
 "metadata": {
  "kernelspec": {
   "display_name": "Python 3",
   "language": "python",
   "name": "python3"
  },
  "language_info": {
   "codemirror_mode": {
    "name": "ipython",
    "version": 3
   },
   "file_extension": ".py",
   "mimetype": "text/x-python",
   "name": "python",
   "nbconvert_exporter": "python",
   "pygments_lexer": "ipython3",
   "version": "3.7.4"
  },
  "latex_envs": {
   "LaTeX_envs_menu_present": true,
   "autoclose": false,
   "autocomplete": true,
   "bibliofile": "biblio.bib",
   "cite_by": "apalike",
   "current_citInitial": 1,
   "eqLabelWithNumbers": true,
   "eqNumInitial": 1,
   "hotkeys": {
    "equation": "Ctrl-E",
    "itemize": "Ctrl-I"
   },
   "labels_anchors": false,
   "latex_user_defs": false,
   "report_style_numbering": false,
   "user_envs_cfg": false
  },
  "toc": {
   "base_numbering": 1,
   "nav_menu": {},
   "number_sections": true,
   "sideBar": true,
   "skip_h1_title": false,
   "title_cell": "Table of Contents",
   "title_sidebar": "Contents",
   "toc_cell": false,
   "toc_position": {},
   "toc_section_display": true,
   "toc_window_display": false
  },
  "varInspector": {
   "cols": {
    "lenName": 16,
    "lenType": 16,
    "lenVar": 40
   },
   "kernels_config": {
    "python": {
     "delete_cmd_postfix": "",
     "delete_cmd_prefix": "del ",
     "library": "var_list.py",
     "varRefreshCmd": "print(var_dic_list())"
    },
    "r": {
     "delete_cmd_postfix": ") ",
     "delete_cmd_prefix": "rm(",
     "library": "var_list.r",
     "varRefreshCmd": "cat(var_dic_list()) "
    }
   },
   "types_to_exclude": [
    "module",
    "function",
    "builtin_function_or_method",
    "instance",
    "_Feature"
   ],
   "window_display": false
  }
 },
 "nbformat": 4,
 "nbformat_minor": 2
}
