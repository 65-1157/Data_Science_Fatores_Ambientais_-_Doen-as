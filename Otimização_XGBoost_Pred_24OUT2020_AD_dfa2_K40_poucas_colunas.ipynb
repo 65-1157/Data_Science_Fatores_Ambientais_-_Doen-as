{
 "cells": [
  {
   "cell_type": "markdown",
   "metadata": {},
   "source": [
    "## bibliotecas a serem usadas"
   ]
  },
  {
   "cell_type": "code",
   "execution_count": 1,
   "metadata": {},
   "outputs": [],
   "source": [
    "import plotly_express as px\n",
    "# biblioteca nova, para visualização com diferentes formas\n",
    "import pandas as pd\n",
    "import matplotlib.pyplot as plt\n",
    "import numpy as np\n",
    "import statsmodels.api as sm\n",
    "import statsmodels.formula.api as smf\n",
    "import seaborn as sns\n",
    "from scipy import stats\n",
    "import scipy\n",
    "import seaborn as sns\n",
    "import statsmodels\n",
    "import statsmodels.stats.api as sms"
   ]
  },
  {
   "cell_type": "code",
   "execution_count": 2,
   "metadata": {},
   "outputs": [],
   "source": [
    "# parâmetros dos gráficos para o arquivo\n",
    "params = {'legend.fontsize': 'x-large',\n",
    "          'figure.figsize': (16, 8),\n",
    "          'axes.labelsize': 'x-large',\n",
    "          'axes.titlesize':'x-large',\n",
    "          'xtick.labelsize':'x-large',\n",
    "          'ytick.labelsize':'x-large'}\n",
    "\n",
    "%matplotlib inline\n",
    "plt.rcParams.update(params)"
   ]
  },
  {
   "cell_type": "markdown",
   "metadata": {},
   "source": [
    "### arquivo_dados_formatados_agrupados"
   ]
  },
  {
   "cell_type": "code",
   "execution_count": 3,
   "metadata": {},
   "outputs": [],
   "source": [
    "df=pd.read_csv('d_f_a_2.csv',encoding = \"ISO-8859-1\", sep=\";\", low_memory=False, nrows=1000000)\n",
    "# somente 100 mil linhas, tempo computação adequável"
   ]
  },
  {
   "cell_type": "code",
   "execution_count": 5,
   "metadata": {
    "scrolled": true
   },
   "outputs": [
    {
     "data": {
      "text/html": [
       "<div>\n",
       "<style scoped>\n",
       "    .dataframe tbody tr th:only-of-type {\n",
       "        vertical-align: middle;\n",
       "    }\n",
       "\n",
       "    .dataframe tbody tr th {\n",
       "        vertical-align: top;\n",
       "    }\n",
       "\n",
       "    .dataframe thead th {\n",
       "        text-align: right;\n",
       "    }\n",
       "</style>\n",
       "<table border=\"1\" class=\"dataframe\">\n",
       "  <thead>\n",
       "    <tr style=\"text-align: right;\">\n",
       "      <th></th>\n",
       "      <th>cod_muni</th>\n",
       "      <th>qtd_mora</th>\n",
       "      <th>incidencia</th>\n",
       "      <th>diag_princ</th>\n",
       "      <th>prevalencia</th>\n",
       "      <th>renda_media_mora</th>\n",
       "      <th>SITU1_entorno</th>\n",
       "      <th>SITU2_entorno</th>\n",
       "      <th>SITU3_entorno</th>\n",
       "      <th>SITU4_entorno</th>\n",
       "      <th>...</th>\n",
       "      <th>V032_domicilio02</th>\n",
       "      <th>V033_domicilio02</th>\n",
       "      <th>V034_domicilio02</th>\n",
       "      <th>V035_domicilio02</th>\n",
       "      <th>V036_domicilio02</th>\n",
       "      <th>V037_domicilio02</th>\n",
       "      <th>V038_domicilio02</th>\n",
       "      <th>V041_domicilio02</th>\n",
       "      <th>V045_domicilio02</th>\n",
       "      <th>V089_domicilio02</th>\n",
       "    </tr>\n",
       "  </thead>\n",
       "  <tbody>\n",
       "    <tr>\n",
       "      <td>0</td>\n",
       "      <td>290010</td>\n",
       "      <td>8301</td>\n",
       "      <td>1</td>\n",
       "      <td>J04</td>\n",
       "      <td>0.000121</td>\n",
       "      <td>0.103943</td>\n",
       "      <td>0.463481</td>\n",
       "      <td>0.0</td>\n",
       "      <td>0.0</td>\n",
       "      <td>0.0</td>\n",
       "      <td>...</td>\n",
       "      <td>0.005892</td>\n",
       "      <td>0.39911</td>\n",
       "      <td>0.016835</td>\n",
       "      <td>0.035354</td>\n",
       "      <td>0.0</td>\n",
       "      <td>0.010582</td>\n",
       "      <td>0.970779</td>\n",
       "      <td>0.027417</td>\n",
       "      <td>0.490861</td>\n",
       "      <td>0.509139</td>\n",
       "    </tr>\n",
       "  </tbody>\n",
       "</table>\n",
       "<p>1 rows × 83 columns</p>\n",
       "</div>"
      ],
      "text/plain": [
       "   cod_muni  qtd_mora  incidencia diag_princ  prevalencia  renda_media_mora  \\\n",
       "0    290010      8301           1        J04     0.000121          0.103943   \n",
       "\n",
       "   SITU1_entorno  SITU2_entorno  SITU3_entorno  SITU4_entorno  ...  \\\n",
       "0       0.463481            0.0            0.0            0.0  ...   \n",
       "\n",
       "   V032_domicilio02  V033_domicilio02  V034_domicilio02  V035_domicilio02  \\\n",
       "0          0.005892           0.39911          0.016835          0.035354   \n",
       "\n",
       "   V036_domicilio02  V037_domicilio02  V038_domicilio02  V041_domicilio02  \\\n",
       "0               0.0          0.010582          0.970779          0.027417   \n",
       "\n",
       "   V045_domicilio02  V089_domicilio02  \n",
       "0          0.490861          0.509139  \n",
       "\n",
       "[1 rows x 83 columns]"
      ]
     },
     "execution_count": 5,
     "metadata": {},
     "output_type": "execute_result"
    }
   ],
   "source": [
    "df.head(1)"
   ]
  },
  {
   "cell_type": "code",
   "execution_count": 6,
   "metadata": {},
   "outputs": [],
   "source": [
    "df1=pd.read_csv('dados_com-clima_censo_com_selecao.csv',encoding = \"ISO-8859-1\", sep=\";\", low_memory=False, nrows=1000000)"
   ]
  },
  {
   "cell_type": "code",
   "execution_count": 7,
   "metadata": {},
   "outputs": [
    {
     "data": {
      "text/html": [
       "<div>\n",
       "<style scoped>\n",
       "    .dataframe tbody tr th:only-of-type {\n",
       "        vertical-align: middle;\n",
       "    }\n",
       "\n",
       "    .dataframe tbody tr th {\n",
       "        vertical-align: top;\n",
       "    }\n",
       "\n",
       "    .dataframe thead th {\n",
       "        text-align: right;\n",
       "    }\n",
       "</style>\n",
       "<table border=\"1\" class=\"dataframe\">\n",
       "  <thead>\n",
       "    <tr style=\"text-align: right;\">\n",
       "      <th></th>\n",
       "      <th>cod_muni</th>\n",
       "      <th>renda_media_mora</th>\n",
       "      <th>SITU1_entorno</th>\n",
       "      <th>SITU2_entorno</th>\n",
       "      <th>SITU3_entorno</th>\n",
       "      <th>SITU4_entorno</th>\n",
       "      <th>SITU5_entorno</th>\n",
       "      <th>SITU6_entorno</th>\n",
       "      <th>SITU7_entorno</th>\n",
       "      <th>SITU8_entorno</th>\n",
       "      <th>...</th>\n",
       "      <th>V032_domicilio02</th>\n",
       "      <th>V033_domicilio02</th>\n",
       "      <th>V034_domicilio02</th>\n",
       "      <th>V035_domicilio02</th>\n",
       "      <th>V036_domicilio02</th>\n",
       "      <th>V037_domicilio02</th>\n",
       "      <th>V038_domicilio02</th>\n",
       "      <th>V041_domicilio02</th>\n",
       "      <th>V045_domicilio02</th>\n",
       "      <th>V089_domicilio02</th>\n",
       "    </tr>\n",
       "  </thead>\n",
       "  <tbody>\n",
       "    <tr>\n",
       "      <td>0</td>\n",
       "      <td>290010</td>\n",
       "      <td>0.103943</td>\n",
       "      <td>0.463481</td>\n",
       "      <td>0.0</td>\n",
       "      <td>0.0</td>\n",
       "      <td>0.0</td>\n",
       "      <td>0.083528</td>\n",
       "      <td>0.0</td>\n",
       "      <td>0.0</td>\n",
       "      <td>0.452991</td>\n",
       "      <td>...</td>\n",
       "      <td>0.005892</td>\n",
       "      <td>0.39911</td>\n",
       "      <td>0.016835</td>\n",
       "      <td>0.035354</td>\n",
       "      <td>0.000000</td>\n",
       "      <td>0.010582</td>\n",
       "      <td>0.970779</td>\n",
       "      <td>0.027417</td>\n",
       "      <td>0.490861</td>\n",
       "      <td>0.509139</td>\n",
       "    </tr>\n",
       "    <tr>\n",
       "      <td>1</td>\n",
       "      <td>290020</td>\n",
       "      <td>0.036980</td>\n",
       "      <td>0.548910</td>\n",
       "      <td>0.0</td>\n",
       "      <td>0.0</td>\n",
       "      <td>0.0</td>\n",
       "      <td>0.127955</td>\n",
       "      <td>0.0</td>\n",
       "      <td>0.0</td>\n",
       "      <td>0.323134</td>\n",
       "      <td>...</td>\n",
       "      <td>0.109294</td>\n",
       "      <td>0.19462</td>\n",
       "      <td>0.004395</td>\n",
       "      <td>0.249180</td>\n",
       "      <td>0.000176</td>\n",
       "      <td>0.024848</td>\n",
       "      <td>0.909341</td>\n",
       "      <td>0.086381</td>\n",
       "      <td>0.501875</td>\n",
       "      <td>0.498125</td>\n",
       "    </tr>\n",
       "  </tbody>\n",
       "</table>\n",
       "<p>2 rows × 79 columns</p>\n",
       "</div>"
      ],
      "text/plain": [
       "   cod_muni  renda_media_mora  SITU1_entorno  SITU2_entorno  SITU3_entorno  \\\n",
       "0    290010          0.103943       0.463481            0.0            0.0   \n",
       "1    290020          0.036980       0.548910            0.0            0.0   \n",
       "\n",
       "   SITU4_entorno  SITU5_entorno  SITU6_entorno  SITU7_entorno  SITU8_entorno  \\\n",
       "0            0.0       0.083528            0.0            0.0       0.452991   \n",
       "1            0.0       0.127955            0.0            0.0       0.323134   \n",
       "\n",
       "   ...  V032_domicilio02  V033_domicilio02  V034_domicilio02  \\\n",
       "0  ...          0.005892           0.39911          0.016835   \n",
       "1  ...          0.109294           0.19462          0.004395   \n",
       "\n",
       "   V035_domicilio02  V036_domicilio02  V037_domicilio02  V038_domicilio02  \\\n",
       "0          0.035354          0.000000          0.010582          0.970779   \n",
       "1          0.249180          0.000176          0.024848          0.909341   \n",
       "\n",
       "   V041_domicilio02  V045_domicilio02  V089_domicilio02  \n",
       "0          0.027417          0.490861          0.509139  \n",
       "1          0.086381          0.501875          0.498125  \n",
       "\n",
       "[2 rows x 79 columns]"
      ]
     },
     "execution_count": 7,
     "metadata": {},
     "output_type": "execute_result"
    }
   ],
   "source": [
    "df1.head(2)"
   ]
  },
  {
   "cell_type": "markdown",
   "metadata": {},
   "source": [
    "### Doença mais frequente = K40"
   ]
  },
  {
   "cell_type": "code",
   "execution_count": 6,
   "metadata": {},
   "outputs": [
    {
     "data": {
      "text/html": [
       "<div>\n",
       "<style scoped>\n",
       "    .dataframe tbody tr th:only-of-type {\n",
       "        vertical-align: middle;\n",
       "    }\n",
       "\n",
       "    .dataframe tbody tr th {\n",
       "        vertical-align: top;\n",
       "    }\n",
       "\n",
       "    .dataframe thead th {\n",
       "        text-align: right;\n",
       "    }\n",
       "</style>\n",
       "<table border=\"1\" class=\"dataframe\">\n",
       "  <thead>\n",
       "    <tr style=\"text-align: right;\">\n",
       "      <th></th>\n",
       "      <th>cod_muni</th>\n",
       "      <th>qtd_mora</th>\n",
       "      <th>incidencia</th>\n",
       "      <th>diag_princ</th>\n",
       "      <th>prevalencia</th>\n",
       "      <th>renda_media_mora</th>\n",
       "      <th>SITU1_entorno</th>\n",
       "      <th>SITU2_entorno</th>\n",
       "      <th>SITU3_entorno</th>\n",
       "      <th>SITU4_entorno</th>\n",
       "      <th>...</th>\n",
       "      <th>V032_domicilio02</th>\n",
       "      <th>V033_domicilio02</th>\n",
       "      <th>V034_domicilio02</th>\n",
       "      <th>V035_domicilio02</th>\n",
       "      <th>V036_domicilio02</th>\n",
       "      <th>V037_domicilio02</th>\n",
       "      <th>V038_domicilio02</th>\n",
       "      <th>V041_domicilio02</th>\n",
       "      <th>V045_domicilio02</th>\n",
       "      <th>V089_domicilio02</th>\n",
       "    </tr>\n",
       "  </thead>\n",
       "  <tbody>\n",
       "    <tr>\n",
       "      <td>18</td>\n",
       "      <td>290010</td>\n",
       "      <td>8301</td>\n",
       "      <td>24</td>\n",
       "      <td>K40</td>\n",
       "      <td>0.002891</td>\n",
       "      <td>0.103943</td>\n",
       "      <td>0.463481</td>\n",
       "      <td>0.0</td>\n",
       "      <td>0.0</td>\n",
       "      <td>0.0</td>\n",
       "      <td>...</td>\n",
       "      <td>0.005892</td>\n",
       "      <td>0.399110</td>\n",
       "      <td>0.016835</td>\n",
       "      <td>0.035354</td>\n",
       "      <td>0.000000</td>\n",
       "      <td>0.010582</td>\n",
       "      <td>0.970779</td>\n",
       "      <td>0.027417</td>\n",
       "      <td>0.490861</td>\n",
       "      <td>0.509139</td>\n",
       "    </tr>\n",
       "    <tr>\n",
       "      <td>53</td>\n",
       "      <td>290020</td>\n",
       "      <td>16991</td>\n",
       "      <td>50</td>\n",
       "      <td>K40</td>\n",
       "      <td>0.002943</td>\n",
       "      <td>0.036980</td>\n",
       "      <td>0.548910</td>\n",
       "      <td>0.0</td>\n",
       "      <td>0.0</td>\n",
       "      <td>0.0</td>\n",
       "      <td>...</td>\n",
       "      <td>0.109294</td>\n",
       "      <td>0.194620</td>\n",
       "      <td>0.004395</td>\n",
       "      <td>0.249180</td>\n",
       "      <td>0.000176</td>\n",
       "      <td>0.024848</td>\n",
       "      <td>0.909341</td>\n",
       "      <td>0.086381</td>\n",
       "      <td>0.501875</td>\n",
       "      <td>0.498125</td>\n",
       "    </tr>\n",
       "    <tr>\n",
       "      <td>98</td>\n",
       "      <td>290030</td>\n",
       "      <td>14503</td>\n",
       "      <td>97</td>\n",
       "      <td>K40</td>\n",
       "      <td>0.006688</td>\n",
       "      <td>0.063205</td>\n",
       "      <td>0.887555</td>\n",
       "      <td>0.0</td>\n",
       "      <td>0.0</td>\n",
       "      <td>0.0</td>\n",
       "      <td>...</td>\n",
       "      <td>0.006756</td>\n",
       "      <td>0.374053</td>\n",
       "      <td>0.024022</td>\n",
       "      <td>0.037399</td>\n",
       "      <td>0.000409</td>\n",
       "      <td>0.006142</td>\n",
       "      <td>0.970859</td>\n",
       "      <td>0.018904</td>\n",
       "      <td>0.491913</td>\n",
       "      <td>0.508087</td>\n",
       "    </tr>\n",
       "  </tbody>\n",
       "</table>\n",
       "<p>3 rows × 83 columns</p>\n",
       "</div>"
      ],
      "text/plain": [
       "    cod_muni  qtd_mora  incidencia diag_princ  prevalencia  renda_media_mora  \\\n",
       "18    290010      8301          24        K40     0.002891          0.103943   \n",
       "53    290020     16991          50        K40     0.002943          0.036980   \n",
       "98    290030     14503          97        K40     0.006688          0.063205   \n",
       "\n",
       "    SITU1_entorno  SITU2_entorno  SITU3_entorno  SITU4_entorno  ...  \\\n",
       "18       0.463481            0.0            0.0            0.0  ...   \n",
       "53       0.548910            0.0            0.0            0.0  ...   \n",
       "98       0.887555            0.0            0.0            0.0  ...   \n",
       "\n",
       "    V032_domicilio02  V033_domicilio02  V034_domicilio02  V035_domicilio02  \\\n",
       "18          0.005892          0.399110          0.016835          0.035354   \n",
       "53          0.109294          0.194620          0.004395          0.249180   \n",
       "98          0.006756          0.374053          0.024022          0.037399   \n",
       "\n",
       "    V036_domicilio02  V037_domicilio02  V038_domicilio02  V041_domicilio02  \\\n",
       "18          0.000000          0.010582          0.970779          0.027417   \n",
       "53          0.000176          0.024848          0.909341          0.086381   \n",
       "98          0.000409          0.006142          0.970859          0.018904   \n",
       "\n",
       "    V045_domicilio02  V089_domicilio02  \n",
       "18          0.490861          0.509139  \n",
       "53          0.501875          0.498125  \n",
       "98          0.491913          0.508087  \n",
       "\n",
       "[3 rows x 83 columns]"
      ]
     },
     "execution_count": 6,
     "metadata": {},
     "output_type": "execute_result"
    }
   ],
   "source": [
    "# separação na doença mais frequente desse arquivo = K40\n",
    "temp = np.where(df['diag_princ'].isin(['K40']))\n",
    "df40 = df.loc[temp]\n",
    "# reunir tudo\n",
    "df40.head(3)"
   ]
  },
  {
   "cell_type": "markdown",
   "metadata": {},
   "source": [
    "## XGBOOST_Predição"
   ]
  },
  {
   "cell_type": "code",
   "execution_count": 7,
   "metadata": {},
   "outputs": [
    {
     "name": "stdout",
     "output_type": "stream",
     "text": [
      "Requirement already satisfied: xgboost in c:\\users\\aferr\\anaconda3\\lib\\site-packages (1.2.1)\n",
      "Requirement already satisfied: numpy in c:\\users\\aferr\\anaconda3\\lib\\site-packages (from xgboost) (1.17.4)\n",
      "Requirement already satisfied: scipy in c:\\users\\aferr\\anaconda3\\lib\\site-packages (from xgboost) (1.4.1)\n"
     ]
    }
   ],
   "source": [
    "!pip install xgboost"
   ]
  },
  {
   "cell_type": "code",
   "execution_count": 8,
   "metadata": {},
   "outputs": [],
   "source": [
    "import xgboost as xgb\n",
    "from xgboost import XGBRegressor\n",
    "from sklearn.model_selection import train_test_split\n",
    "from sklearn.metrics import mean_squared_error\n",
    "from sklearn.preprocessing import RobustScaler\n",
    "from sklearn.model_selection import RandomizedSearchCV, GridSearchCV"
   ]
  },
  {
   "cell_type": "markdown",
   "metadata": {},
   "source": [
    "### arquivo_preparo"
   ]
  },
  {
   "cell_type": "code",
   "execution_count": 9,
   "metadata": {},
   "outputs": [],
   "source": [
    "# Preparação dos arquivos de entrada (X) e saída (y)\n",
    "X = df40[['cod_muni','SITU1_entorno','SITU5_entorno','renda_media_mora','V032_domicilio02','V034_domicilio02','V035_domicilio02']]\n",
    "y = df40.loc[:,'prevalencia']"
   ]
  },
  {
   "cell_type": "code",
   "execution_count": 10,
   "metadata": {},
   "outputs": [
    {
     "data": {
      "text/html": [
       "<div>\n",
       "<style scoped>\n",
       "    .dataframe tbody tr th:only-of-type {\n",
       "        vertical-align: middle;\n",
       "    }\n",
       "\n",
       "    .dataframe tbody tr th {\n",
       "        vertical-align: top;\n",
       "    }\n",
       "\n",
       "    .dataframe thead th {\n",
       "        text-align: right;\n",
       "    }\n",
       "</style>\n",
       "<table border=\"1\" class=\"dataframe\">\n",
       "  <thead>\n",
       "    <tr style=\"text-align: right;\">\n",
       "      <th></th>\n",
       "      <th>cod_muni</th>\n",
       "      <th>SITU1_entorno</th>\n",
       "      <th>SITU5_entorno</th>\n",
       "      <th>renda_media_mora</th>\n",
       "      <th>V032_domicilio02</th>\n",
       "      <th>V034_domicilio02</th>\n",
       "      <th>V035_domicilio02</th>\n",
       "    </tr>\n",
       "  </thead>\n",
       "  <tbody>\n",
       "    <tr>\n",
       "      <td>18</td>\n",
       "      <td>290010</td>\n",
       "      <td>0.463481</td>\n",
       "      <td>0.083528</td>\n",
       "      <td>0.103943</td>\n",
       "      <td>0.005892</td>\n",
       "      <td>0.016835</td>\n",
       "      <td>0.035354</td>\n",
       "    </tr>\n",
       "    <tr>\n",
       "      <td>53</td>\n",
       "      <td>290020</td>\n",
       "      <td>0.548910</td>\n",
       "      <td>0.127955</td>\n",
       "      <td>0.036980</td>\n",
       "      <td>0.109294</td>\n",
       "      <td>0.004395</td>\n",
       "      <td>0.249180</td>\n",
       "    </tr>\n",
       "  </tbody>\n",
       "</table>\n",
       "</div>"
      ],
      "text/plain": [
       "    cod_muni  SITU1_entorno  SITU5_entorno  renda_media_mora  \\\n",
       "18    290010       0.463481       0.083528          0.103943   \n",
       "53    290020       0.548910       0.127955          0.036980   \n",
       "\n",
       "    V032_domicilio02  V034_domicilio02  V035_domicilio02  \n",
       "18          0.005892          0.016835          0.035354  \n",
       "53          0.109294          0.004395          0.249180  "
      ]
     },
     "execution_count": 10,
     "metadata": {},
     "output_type": "execute_result"
    }
   ],
   "source": [
    "X.head(2)"
   ]
  },
  {
   "cell_type": "code",
   "execution_count": 11,
   "metadata": {},
   "outputs": [
    {
     "data": {
      "text/plain": [
       "18    0.002891\n",
       "53    0.002943\n",
       "Name: prevalencia, dtype: float64"
      ]
     },
     "execution_count": 11,
     "metadata": {},
     "output_type": "execute_result"
    }
   ],
   "source": [
    "y.head(2)"
   ]
  },
  {
   "cell_type": "code",
   "execution_count": 12,
   "metadata": {},
   "outputs": [],
   "source": [
    "# Divisão entre arquivos de treino e teste, com corte em 30%\n",
    "X_train, X_test, y_train, y_test = train_test_split(X,y,test_size =0.3, random_state=1234)"
   ]
  },
  {
   "cell_type": "markdown",
   "metadata": {},
   "source": [
    "### Baseline"
   ]
  },
  {
   "cell_type": "code",
   "execution_count": 13,
   "metadata": {},
   "outputs": [],
   "source": [
    "# regressor com ajuste inicial\n",
    "regressor = xgb.XGBRegressor(learning_rate=0.1,\n",
    "                             subsample=1,colsample_bytree=1,n_estimators=1000,\n",
    "                             reg_lambda=1,gamma=1,max_depth=3,missing=0.01)"
   ]
  },
  {
   "cell_type": "code",
   "execution_count": 14,
   "metadata": {},
   "outputs": [
    {
     "data": {
      "text/plain": [
       "XGBRegressor(base_score=0.5, booster='gbtree', colsample_bylevel=1,\n",
       "             colsample_bynode=1, colsample_bytree=1, gamma=1, gpu_id=-1,\n",
       "             importance_type='gain', interaction_constraints='',\n",
       "             learning_rate=0.1, max_delta_step=0, max_depth=3,\n",
       "             min_child_weight=1, missing=0.01, monotone_constraints='()',\n",
       "             n_estimators=1000, n_jobs=0, num_parallel_tree=1,\n",
       "             objective='reg:squarederror', random_state=0, reg_alpha=0,\n",
       "             reg_lambda=1, scale_pos_weight=1, subsample=1, tree_method='exact',\n",
       "             validate_parameters=1, verbosity=None)"
      ]
     },
     "execution_count": 14,
     "metadata": {},
     "output_type": "execute_result"
    }
   ],
   "source": [
    "# preparação do regressor\n",
    "regressor.fit(X_train, y_train)"
   ]
  },
  {
   "cell_type": "code",
   "execution_count": 15,
   "metadata": {},
   "outputs": [],
   "source": [
    "y_pred = regressor.predict(X_test)"
   ]
  },
  {
   "cell_type": "code",
   "execution_count": 16,
   "metadata": {},
   "outputs": [
    {
     "data": {
      "text/plain": [
       "array([0.00484768, 0.00484768, 0.00484768, 0.00484768, 0.00484768,\n",
       "       0.00484768, 0.00484768, 0.00484768, 0.00484768, 0.00484768,\n",
       "       0.00484768, 0.00484768, 0.00484768, 0.00484768, 0.00484768,\n",
       "       0.00484768, 0.00484768, 0.00484768, 0.00484768, 0.00484768,\n",
       "       0.00484768, 0.00484768, 0.00484768, 0.00484768, 0.00484768,\n",
       "       0.00484768, 0.00484768, 0.00484768, 0.00484768, 0.00484768,\n",
       "       0.00484768, 0.00484768, 0.00484768, 0.00484768, 0.00484768,\n",
       "       0.00484768, 0.00484768, 0.00484768, 0.00484768, 0.00484768,\n",
       "       0.00484768, 0.00484768, 0.00484768, 0.00484768, 0.00484768,\n",
       "       0.00484768, 0.00484768, 0.00484768, 0.00484768, 0.00484768,\n",
       "       0.00484768, 0.00484768, 0.00484768, 0.00484768, 0.00484768,\n",
       "       0.00484768, 0.00484768, 0.00484768, 0.00484768, 0.00484768,\n",
       "       0.00484768, 0.00484768, 0.00484768, 0.00484768, 0.00484768,\n",
       "       0.00484768, 0.00484768, 0.00484768, 0.00484768, 0.00484768,\n",
       "       0.00484768, 0.00484768, 0.00484768, 0.00484768, 0.00484768,\n",
       "       0.00484768, 0.00484768, 0.00484768, 0.00484768, 0.00484768,\n",
       "       0.00484768, 0.00484768, 0.00484768, 0.00484768, 0.00484768,\n",
       "       0.00484768, 0.00484768, 0.00484768, 0.00484768, 0.00484768,\n",
       "       0.00484768, 0.00484768, 0.00484768, 0.00484768, 0.00484768,\n",
       "       0.00484768, 0.00484768, 0.00484768, 0.00484768, 0.00484768,\n",
       "       0.00484768, 0.00484768, 0.00484768, 0.00484768, 0.00484768,\n",
       "       0.00484768, 0.00484768, 0.00484768, 0.00484768, 0.00484768,\n",
       "       0.00484768, 0.00484768, 0.00484768, 0.00484768, 0.00484768,\n",
       "       0.00484768, 0.00484768, 0.00484768, 0.00484768, 0.00484768,\n",
       "       0.00484768, 0.00484768, 0.00484768, 0.00484768, 0.00484768,\n",
       "       0.00484768, 0.00484768, 0.00484768, 0.00484768, 0.00484768,\n",
       "       0.00484768, 0.00484768, 0.00484768, 0.00484768, 0.00484768,\n",
       "       0.00484768, 0.00484768, 0.00484768, 0.00484768, 0.00484768,\n",
       "       0.00484768, 0.00484768, 0.00484768, 0.00484768, 0.00484768,\n",
       "       0.00484768, 0.00484768, 0.00484768, 0.00484768, 0.00484768,\n",
       "       0.00484768, 0.00484768, 0.00484768, 0.00484768, 0.00484768,\n",
       "       0.00484768, 0.00484768, 0.00484768, 0.00484768, 0.00484768,\n",
       "       0.00484768, 0.00484768, 0.00484768, 0.00484768, 0.00484768,\n",
       "       0.00484768, 0.00484768, 0.00484768, 0.00484768, 0.00484768,\n",
       "       0.00484768, 0.00484768, 0.00484768, 0.00484768, 0.00484768,\n",
       "       0.00484768, 0.00484768, 0.00484768, 0.00484768, 0.00484768,\n",
       "       0.00484768, 0.00484768, 0.00484768, 0.00484768, 0.00484768,\n",
       "       0.00484768, 0.00484768, 0.00484768, 0.00484768, 0.00484768,\n",
       "       0.00484768, 0.00484768, 0.00484768, 0.00484768, 0.00484768,\n",
       "       0.00484768, 0.00484768, 0.00484768, 0.00484768, 0.00484768,\n",
       "       0.00484768, 0.00484768, 0.00484768, 0.00484768, 0.00484768,\n",
       "       0.00484768, 0.00484768, 0.00484768, 0.00484768, 0.00484768,\n",
       "       0.00484768, 0.00484768, 0.00484768, 0.00484768, 0.00484768,\n",
       "       0.00484768, 0.00484768, 0.00484768, 0.00484768, 0.00484768,\n",
       "       0.00484768, 0.00484768, 0.00484768, 0.00484768, 0.00484768,\n",
       "       0.00484768, 0.00484768, 0.00484768, 0.00484768, 0.00484768,\n",
       "       0.00484768, 0.00484768, 0.00484768, 0.00484768, 0.00484768,\n",
       "       0.00484768, 0.00484768, 0.00484768, 0.00484768, 0.00484768,\n",
       "       0.00484768, 0.00484768, 0.00484768, 0.00484768, 0.00484768,\n",
       "       0.00484768, 0.00484768, 0.00484768, 0.00484768, 0.00484768,\n",
       "       0.00484768, 0.00484768, 0.00484768, 0.00484768, 0.00484768,\n",
       "       0.00484768, 0.00484768, 0.00484768, 0.00484768, 0.00484768,\n",
       "       0.00484768, 0.00484768, 0.00484768, 0.00484768, 0.00484768,\n",
       "       0.00484768, 0.00484768, 0.00484768, 0.00484768, 0.00484768,\n",
       "       0.00484768, 0.00484768, 0.00484768, 0.00484768, 0.00484768,\n",
       "       0.00484768, 0.00484768, 0.00484768, 0.00484768, 0.00484768,\n",
       "       0.00484768, 0.00484768, 0.00484768, 0.00484768, 0.00484768,\n",
       "       0.00484768, 0.00484768, 0.00484768, 0.00484768, 0.00484768,\n",
       "       0.00484768, 0.00484768, 0.00484768, 0.00484768, 0.00484768,\n",
       "       0.00484768, 0.00484768, 0.00484768, 0.00484768, 0.00484768,\n",
       "       0.00484768, 0.00484768, 0.00484768, 0.00484768, 0.00484768,\n",
       "       0.00484768, 0.00484768, 0.00484768, 0.00484768, 0.00484768,\n",
       "       0.00484768, 0.00484768, 0.00484768, 0.00484768, 0.00484768,\n",
       "       0.00484768, 0.00484768, 0.00484768, 0.00484768, 0.00484768,\n",
       "       0.00484768, 0.00484768, 0.00484768, 0.00484768, 0.00484768,\n",
       "       0.00484768, 0.00484768, 0.00484768, 0.00484768, 0.00484768,\n",
       "       0.00484768, 0.00484768, 0.00484768, 0.00484768, 0.00484768,\n",
       "       0.00484768, 0.00484768, 0.00484768, 0.00484768, 0.00484768,\n",
       "       0.00484768, 0.00484768, 0.00484768, 0.00484768, 0.00484768,\n",
       "       0.00484768, 0.00484768, 0.00484768, 0.00484768, 0.00484768,\n",
       "       0.00484768, 0.00484768, 0.00484768, 0.00484768, 0.00484768,\n",
       "       0.00484768, 0.00484768, 0.00484768, 0.00484768, 0.00484768,\n",
       "       0.00484768, 0.00484768, 0.00484768, 0.00484768, 0.00484768,\n",
       "       0.00484768, 0.00484768, 0.00484768, 0.00484768, 0.00484768,\n",
       "       0.00484768, 0.00484768, 0.00484768, 0.00484768, 0.00484768,\n",
       "       0.00484768, 0.00484768, 0.00484768, 0.00484768, 0.00484768,\n",
       "       0.00484768, 0.00484768, 0.00484768, 0.00484768, 0.00484768,\n",
       "       0.00484768, 0.00484768, 0.00484768, 0.00484768, 0.00484768,\n",
       "       0.00484768, 0.00484768, 0.00484768, 0.00484768, 0.00484768,\n",
       "       0.00484768, 0.00484768, 0.00484768, 0.00484768, 0.00484768,\n",
       "       0.00484768, 0.00484768, 0.00484768, 0.00484768, 0.00484768,\n",
       "       0.00484768, 0.00484768, 0.00484768, 0.00484768, 0.00484768,\n",
       "       0.00484768, 0.00484768, 0.00484768, 0.00484768, 0.00484768,\n",
       "       0.00484768, 0.00484768, 0.00484768, 0.00484768, 0.00484768,\n",
       "       0.00484768, 0.00484768, 0.00484768, 0.00484768, 0.00484768,\n",
       "       0.00484768, 0.00484768, 0.00484768, 0.00484768, 0.00484768,\n",
       "       0.00484768, 0.00484768, 0.00484768, 0.00484768, 0.00484768,\n",
       "       0.00484768, 0.00484768, 0.00484768, 0.00484768, 0.00484768,\n",
       "       0.00484768, 0.00484768, 0.00484768, 0.00484768, 0.00484768,\n",
       "       0.00484768, 0.00484768, 0.00484768, 0.00484768, 0.00484768,\n",
       "       0.00484768, 0.00484768, 0.00484768, 0.00484768, 0.00484768,\n",
       "       0.00484768, 0.00484768, 0.00484768, 0.00484768, 0.00484768,\n",
       "       0.00484768, 0.00484768, 0.00484768, 0.00484768, 0.00484768,\n",
       "       0.00484768, 0.00484768, 0.00484768, 0.00484768, 0.00484768,\n",
       "       0.00484768, 0.00484768, 0.00484768, 0.00484768, 0.00484768,\n",
       "       0.00484768, 0.00484768, 0.00484768, 0.00484768, 0.00484768,\n",
       "       0.00484768, 0.00484768, 0.00484768, 0.00484768, 0.00484768,\n",
       "       0.00484768, 0.00484768, 0.00484768, 0.00484768, 0.00484768,\n",
       "       0.00484768, 0.00484768, 0.00484768, 0.00484768, 0.00484768,\n",
       "       0.00484768, 0.00484768, 0.00484768, 0.00484768, 0.00484768,\n",
       "       0.00484768, 0.00484768, 0.00484768, 0.00484768, 0.00484768,\n",
       "       0.00484768, 0.00484768, 0.00484768, 0.00484768, 0.00484768,\n",
       "       0.00484768, 0.00484768, 0.00484768, 0.00484768, 0.00484768,\n",
       "       0.00484768, 0.00484768, 0.00484768, 0.00484768, 0.00484768,\n",
       "       0.00484768, 0.00484768, 0.00484768, 0.00484768, 0.00484768,\n",
       "       0.00484768, 0.00484768, 0.00484768, 0.00484768, 0.00484768,\n",
       "       0.00484768, 0.00484768, 0.00484768, 0.00484768, 0.00484768,\n",
       "       0.00484768, 0.00484768, 0.00484768, 0.00484768, 0.00484768,\n",
       "       0.00484768, 0.00484768, 0.00484768, 0.00484768, 0.00484768,\n",
       "       0.00484768, 0.00484768, 0.00484768, 0.00484768, 0.00484768,\n",
       "       0.00484768, 0.00484768, 0.00484768, 0.00484768, 0.00484768,\n",
       "       0.00484768, 0.00484768, 0.00484768, 0.00484768, 0.00484768,\n",
       "       0.00484768, 0.00484768, 0.00484768, 0.00484768, 0.00484768,\n",
       "       0.00484768, 0.00484768, 0.00484768, 0.00484768, 0.00484768,\n",
       "       0.00484768, 0.00484768, 0.00484768, 0.00484768, 0.00484768,\n",
       "       0.00484768, 0.00484768, 0.00484768, 0.00484768, 0.00484768,\n",
       "       0.00484768, 0.00484768, 0.00484768, 0.00484768, 0.00484768,\n",
       "       0.00484768, 0.00484768, 0.00484768, 0.00484768, 0.00484768,\n",
       "       0.00484768, 0.00484768, 0.00484768, 0.00484768, 0.00484768,\n",
       "       0.00484768, 0.00484768, 0.00484768, 0.00484768, 0.00484768,\n",
       "       0.00484768, 0.00484768, 0.00484768, 0.00484768, 0.00484768,\n",
       "       0.00484768, 0.00484768, 0.00484768, 0.00484768, 0.00484768,\n",
       "       0.00484768, 0.00484768, 0.00484768, 0.00484768, 0.00484768,\n",
       "       0.00484768, 0.00484768, 0.00484768, 0.00484768, 0.00484768,\n",
       "       0.00484768, 0.00484768, 0.00484768, 0.00484768, 0.00484768,\n",
       "       0.00484768, 0.00484768, 0.00484768, 0.00484768, 0.00484768,\n",
       "       0.00484768, 0.00484768, 0.00484768, 0.00484768, 0.00484768,\n",
       "       0.00484768, 0.00484768, 0.00484768, 0.00484768, 0.00484768,\n",
       "       0.00484768, 0.00484768, 0.00484768, 0.00484768, 0.00484768,\n",
       "       0.00484768, 0.00484768, 0.00484768, 0.00484768, 0.00484768,\n",
       "       0.00484768, 0.00484768, 0.00484768, 0.00484768, 0.00484768,\n",
       "       0.00484768, 0.00484768, 0.00484768, 0.00484768, 0.00484768,\n",
       "       0.00484768, 0.00484768, 0.00484768, 0.00484768, 0.00484768,\n",
       "       0.00484768, 0.00484768, 0.00484768, 0.00484768, 0.00484768,\n",
       "       0.00484768, 0.00484768, 0.00484768, 0.00484768, 0.00484768,\n",
       "       0.00484768, 0.00484768, 0.00484768, 0.00484768, 0.00484768,\n",
       "       0.00484768, 0.00484768, 0.00484768, 0.00484768, 0.00484768,\n",
       "       0.00484768, 0.00484768, 0.00484768, 0.00484768, 0.00484768,\n",
       "       0.00484768, 0.00484768, 0.00484768, 0.00484768, 0.00484768,\n",
       "       0.00484768, 0.00484768, 0.00484768, 0.00484768, 0.00484768,\n",
       "       0.00484768, 0.00484768, 0.00484768, 0.00484768, 0.00484768,\n",
       "       0.00484768, 0.00484768, 0.00484768, 0.00484768, 0.00484768,\n",
       "       0.00484768, 0.00484768, 0.00484768, 0.00484768, 0.00484768,\n",
       "       0.00484768, 0.00484768, 0.00484768, 0.00484768, 0.00484768,\n",
       "       0.00484768, 0.00484768, 0.00484768], dtype=float32)"
      ]
     },
     "execution_count": 16,
     "metadata": {},
     "output_type": "execute_result"
    }
   ],
   "source": [
    "y_pred"
   ]
  },
  {
   "cell_type": "code",
   "execution_count": 17,
   "metadata": {},
   "outputs": [
    {
     "data": {
      "text/plain": [
       "4.979770575507606e-06"
      ]
     },
     "execution_count": 17,
     "metadata": {},
     "output_type": "execute_result"
    }
   ],
   "source": [
    "mean_squared_error(y_test, y_pred)"
   ]
  },
  {
   "cell_type": "code",
   "execution_count": 18,
   "metadata": {},
   "outputs": [
    {
     "data": {
      "image/png": "[encoded data removed]",
      "text/plain": [
       "<Figure size 1152x576 with 1 Axes>"
      ]
     },
     "metadata": {
      "needs_background": "light"
     },
     "output_type": "display_data"
    }
   ],
   "source": [
    "plt.scatter(X_test['cod_muni'], y_pred, c = \"blue\", marker = \"s\")\n",
    "plt.title(\"Primeiro_método_XGBoost: cod_muni x prevalencia predita_K40\")\n",
    "plt.xlabel(\"cod_muni\")\n",
    "plt.ylabel(\"prevalencia predita\")\n",
    "plt.show()"
   ]
  },
  {
   "cell_type": "code",
   "execution_count": 19,
   "metadata": {},
   "outputs": [],
   "source": [
    "errop1= (y_test - y_pred)*100/y_test\n",
    "# em porcentagem"
   ]
  },
  {
   "cell_type": "code",
   "execution_count": 20,
   "metadata": {},
   "outputs": [
    {
     "data": {
      "image/png": "[encoded data removed]",
      "text/plain": [
       "<Figure size 1152x576 with 1 Axes>"
      ]
     },
     "metadata": {
      "needs_background": "light"
     },
     "output_type": "display_data"
    }
   ],
   "source": [
    "plt.scatter(X_test['cod_muni'], errop1, c = \"blue\", marker = \"s\")\n",
    "plt.title(\"Primeiro_método_XGBoost: cod_muni x errop1\")\n",
    "plt.xlabel(\"cod_muni\")\n",
    "plt.ylabel(\"erro_percentual_1\")\n",
    "plt.show()"
   ]
  },
  {
   "cell_type": "markdown",
   "metadata": {},
   "source": [
    "### Otimização método XGBoost"
   ]
  },
  {
   "cell_type": "code",
   "execution_count": 21,
   "metadata": {},
   "outputs": [],
   "source": [
    "params= {\n",
    "    'booster': [\"gbtree\",\"gblinear\",'dart'],\n",
    "    'learning rate': [0.05, 0.1, 0.2, 0.3, 0.4, 0.5],\n",
    "    'max depth': [3,4,5,8,10,11,12],\n",
    "    'min_child_weigth': [1,3,5,7],\n",
    "    'gamma': [0, 0.1, 0.2, 0.3, 0.4],\n",
    "    'colsample_bytree': [0.3,0.4,0.5,0.6]\n",
    "}"
   ]
  },
  {
   "cell_type": "code",
   "execution_count": 22,
   "metadata": {},
   "outputs": [],
   "source": [
    "regressor = xgb.XGBRegressor()"
   ]
  },
  {
   "cell_type": "code",
   "execution_count": 23,
   "metadata": {},
   "outputs": [],
   "source": [
    "random_search = RandomizedSearchCV(regressor,param_distributions=params,n_iter=5,n_jobs=-1,cv=5,verbose=3)"
   ]
  },
  {
   "cell_type": "code",
   "execution_count": 24,
   "metadata": {},
   "outputs": [
    {
     "name": "stdout",
     "output_type": "stream",
     "text": [
      "Fitting 5 folds for each of 5 candidates, totalling 25 fits\n"
     ]
    },
    {
     "name": "stderr",
     "output_type": "stream",
     "text": [
      "[Parallel(n_jobs=-1)]: Using backend LokyBackend with 8 concurrent workers.\n",
      "[Parallel(n_jobs=-1)]: Done  19 out of  25 | elapsed:    4.5s remaining:    1.4s\n",
      "[Parallel(n_jobs=-1)]: Done  25 out of  25 | elapsed:    4.6s finished\n"
     ]
    },
    {
     "name": "stdout",
     "output_type": "stream",
     "text": [
      "[11:24:38] WARNING: C:\\Users\\Administrator\\workspace\\xgboost-win64_release_1.2.0\\src\\learner.cc:516: \n",
      "Parameters: { learning rate, max depth, min_child_weigth } might not be used.\n",
      "\n",
      "  This may not be accurate due to some parameters are only used in language bindings but\n",
      "  passed down to XGBoost core.  Or some parameters are not used but slip through this\n",
      "  verification. Please open an issue if you find above cases.\n",
      "\n",
      "\n"
     ]
    },
    {
     "data": {
      "text/plain": [
       "RandomizedSearchCV(cv=5, error_score='raise-deprecating',\n",
       "                   estimator=XGBRegressor(base_score=None, booster=None,\n",
       "                                          colsample_bylevel=None,\n",
       "                                          colsample_bynode=None,\n",
       "                                          colsample_bytree=None, gamma=None,\n",
       "                                          gpu_id=None, importance_type='gain',\n",
       "                                          interaction_constraints=None,\n",
       "                                          learning_rate=None,\n",
       "                                          max_delta_step=None, max_depth=None,\n",
       "                                          min_child_weight=None, missing=nan,\n",
       "                                          monotone_con...\n",
       "                   iid='warn', n_iter=5, n_jobs=-1,\n",
       "                   param_distributions={'booster': ['gbtree', 'gblinear',\n",
       "                                                    'dart'],\n",
       "                                        'colsample_bytree': [0.3, 0.4, 0.5,\n",
       "                                                             0.6],\n",
       "                                        'gamma': [0, 0.1, 0.2, 0.3, 0.4],\n",
       "                                        'learning rate': [0.05, 0.1, 0.2, 0.3,\n",
       "                                                          0.4, 0.5],\n",
       "                                        'max depth': [3, 4, 5, 8, 10, 11, 12],\n",
       "                                        'min_child_weigth': [1, 3, 5, 7]},\n",
       "                   pre_dispatch='2*n_jobs', random_state=None, refit=True,\n",
       "                   return_train_score=False, scoring=None, verbose=3)"
      ]
     },
     "execution_count": 24,
     "metadata": {},
     "output_type": "execute_result"
    }
   ],
   "source": [
    "random_search.fit(X_train, y_train)"
   ]
  },
  {
   "cell_type": "code",
   "execution_count": 25,
   "metadata": {},
   "outputs": [
    {
     "name": "stdout",
     "output_type": "stream",
     "text": [
      "XGBRegressor(base_score=0.5, booster='gbtree', colsample_bylevel=1,\n",
      "             colsample_bynode=1, colsample_bytree=0.6, gamma=0.3, gpu_id=-1,\n",
      "             importance_type='gain', interaction_constraints='',\n",
      "             learning rate=0.1, learning_rate=0.300000012, max depth=5,\n",
      "             max_delta_step=0, max_depth=6, min_child_weight=1,\n",
      "             min_child_weigth=1, missing=nan, monotone_constraints='()',\n",
      "             n_estimators=100, n_jobs=0, num_parallel_tree=1,\n",
      "             objective='reg:squarederror', random_state=0, reg_alpha=0,\n",
      "             reg_lambda=1, scale_pos_weight=1, subsample=1, tree_method='exact',\n",
      "             validate_parameters=1, verbosity=None)\n"
     ]
    }
   ],
   "source": [
    "print(random_search.best_estimator_)"
   ]
  },
  {
   "cell_type": "code",
   "execution_count": 26,
   "metadata": {},
   "outputs": [
    {
     "data": {
      "text/plain": [
       "{'min_child_weigth': 1,\n",
       " 'max depth': 5,\n",
       " 'learning rate': 0.1,\n",
       " 'gamma': 0.3,\n",
       " 'colsample_bytree': 0.6,\n",
       " 'booster': 'gbtree'}"
      ]
     },
     "execution_count": 26,
     "metadata": {},
     "output_type": "execute_result"
    }
   ],
   "source": [
    "random_search.best_params_"
   ]
  },
  {
   "cell_type": "code",
   "execution_count": 27,
   "metadata": {},
   "outputs": [],
   "source": [
    "from sklearn.model_selection import cross_val_score\n",
    "score=cross_val_score(regressor,X,y,cv=10)"
   ]
  },
  {
   "cell_type": "code",
   "execution_count": 28,
   "metadata": {},
   "outputs": [],
   "source": [
    "modelb = xgb.XGBRegressor(colsample_bytree=0.6,\n",
    "                 gamma=0,                 \n",
    "                 learning_rate=0.2,\n",
    "                 max_depth=5,\n",
    "                 min_child_weight=1,\n",
    "                 n_estimators=100,                                                                    \n",
    "                 reg_alpha=0,\n",
    "                 reg_lambda=1,\n",
    "                 subsample=1,\n",
    "                 seed=42, booster = 'dart') "
   ]
  },
  {
   "cell_type": "code",
   "execution_count": 29,
   "metadata": {},
   "outputs": [
    {
     "data": {
      "text/plain": [
       "XGBRegressor(base_score=0.5, booster='dart', colsample_bylevel=1,\n",
       "             colsample_bynode=1, colsample_bytree=0.6, gamma=0, gpu_id=-1,\n",
       "             importance_type='gain', interaction_constraints='',\n",
       "             learning_rate=0.2, max_delta_step=0, max_depth=5,\n",
       "             min_child_weight=1, missing=nan, monotone_constraints='()',\n",
       "             n_estimators=100, n_jobs=0, num_parallel_tree=1,\n",
       "             objective='reg:squarederror', random_state=42, reg_alpha=0,\n",
       "             reg_lambda=1, scale_pos_weight=1, seed=42, subsample=1,\n",
       "             tree_method='exact', validate_parameters=1, verbosity=None)"
      ]
     },
     "execution_count": 29,
     "metadata": {},
     "output_type": "execute_result"
    }
   ],
   "source": [
    "modelb.fit(X_train,y_train)"
   ]
  },
  {
   "cell_type": "code",
   "execution_count": 30,
   "metadata": {},
   "outputs": [],
   "source": [
    "y_pred_2 = modelb.predict(X_test)"
   ]
  },
  {
   "cell_type": "code",
   "execution_count": 31,
   "metadata": {},
   "outputs": [
    {
     "data": {
      "text/plain": [
       "4.966916045057161e-06"
      ]
     },
     "execution_count": 31,
     "metadata": {},
     "output_type": "execute_result"
    }
   ],
   "source": [
    "mean_squared_error(y_test, y_pred_2)"
   ]
  },
  {
   "cell_type": "code",
   "execution_count": 32,
   "metadata": {},
   "outputs": [],
   "source": [
    "errop2= (y_test - y_pred_2)*100/y_test\n",
    "# em porcentagem"
   ]
  },
  {
   "cell_type": "code",
   "execution_count": 33,
   "metadata": {},
   "outputs": [
    {
     "data": {
      "image/png": "[encoded data removed]",
      "text/plain": [
       "<Figure size 1152x576 with 1 Axes>"
      ]
     },
     "metadata": {
      "needs_background": "light"
     },
     "output_type": "display_data"
    }
   ],
   "source": [
    "plt.scatter(X_test['cod_muni'], y_pred_2, c = \"blue\", marker = \"s\")\n",
    "plt.title(\"Segundo méotod XGBoost - cod_muni x y_pred_2\")\n",
    "plt.xlabel(\"cod_muni\")\n",
    "plt.ylabel(\"prevalencia predita\")\n",
    "plt.show()"
   ]
  },
  {
   "cell_type": "code",
   "execution_count": 34,
   "metadata": {},
   "outputs": [
    {
     "data": {
      "image/png": "[encoded data removed]",
      "text/plain": [
       "<Figure size 1152x576 with 1 Axes>"
      ]
     },
     "metadata": {
      "needs_background": "light"
     },
     "output_type": "display_data"
    }
   ],
   "source": [
    "plt.scatter(X_test['cod_muni'], errop2, c = \"blue\", marker = \"s\")\n",
    "plt.title(\"2o_método_XGBoost_cod_muni x erro -- Doença = K40\")\n",
    "plt.xlabel(\"cod_muni\")\n",
    "plt.ylabel(\"erro = y_test - y_pred_2\")\n",
    "plt.show()"
   ]
  },
  {
   "cell_type": "markdown",
   "metadata": {},
   "source": [
    "### Comparação dos erros percentuais"
   ]
  },
  {
   "cell_type": "code",
   "execution_count": 35,
   "metadata": {},
   "outputs": [],
   "source": [
    "comp = errop2/errop1\n",
    "# errop2 - otimização com dart\n",
    "# errop1 - baseline (caso mais simples)"
   ]
  },
  {
   "cell_type": "code",
   "execution_count": 36,
   "metadata": {},
   "outputs": [
    {
     "data": {
      "image/png": "[encoded data removed]",
      "text/plain": [
       "<Figure size 1152x576 with 1 Axes>"
      ]
     },
     "metadata": {
      "needs_background": "light"
     },
     "output_type": "display_data"
    }
   ],
   "source": [
    "plt.scatter(X_test['cod_muni'], comp, c = \"blue\", marker = \"s\")\n",
    "plt.title(\"otimizacao_XGBoost_cod_muni x comp -- Doença = K40\")\n",
    "plt.xlabel(\"cod_muni\")\n",
    "plt.ylabel(\"errop2/errop1\")\n",
    "plt.show()"
   ]
  },
  {
   "cell_type": "code",
   "execution_count": 37,
   "metadata": {},
   "outputs": [
    {
     "data": {
      "text/plain": [
       "<AxesSubplot:>"
      ]
     },
     "execution_count": 37,
     "metadata": {},
     "output_type": "execute_result"
    },
    {
     "data": {
      "image/png": "[encoded data removed]",
      "text/plain": [
       "<Figure size 1152x576 with 1 Axes>"
      ]
     },
     "metadata": {
      "needs_background": "light"
     },
     "output_type": "display_data"
    }
   ],
   "source": [
    "errop1.hist()"
   ]
  },
  {
   "cell_type": "code",
   "execution_count": 39,
   "metadata": {},
   "outputs": [
    {
     "data": {
      "image/png": "[encoded data removed]",
      "text/plain": [
       "<Figure size 1152x576 with 1 Axes>"
      ]
     },
     "metadata": {
      "needs_background": "light"
     },
     "output_type": "display_data"
    }
   ],
   "source": [
    "errop2.hist()\n",
    "plt.title(\"Distribuição erro percentual2 -- Doença = K40\")\n",
    "plt.xlabel(\"errop2\")\n",
    "plt.ylabel(\"ocorrência errop2\")\n",
    "plt.show()"
   ]
  },
  {
   "cell_type": "code",
   "execution_count": null,
   "metadata": {},
   "outputs": [],
   "source": []
  }
 ],
 "metadata": {
  "kernelspec": {
   "display_name": "Python 3",
   "language": "python",
   "name": "python3"
  },
  "language_info": {
   "codemirror_mode": {
    "name": "ipython",
    "version": 3
   },
   "file_extension": ".py",
   "mimetype": "text/x-python",
   "name": "python",
   "nbconvert_exporter": "python",
   "pygments_lexer": "ipython3",
   "version": "3.7.4"
  }
 },
 "nbformat": 4,
 "nbformat_minor": 4
}
