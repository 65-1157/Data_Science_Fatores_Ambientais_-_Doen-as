{
 "cells": [
  {
   "cell_type": "markdown",
   "metadata": {},
   "source": [
    "### Carregando as Bibliotecas"
   ]
  },
  {
   "cell_type": "code",
   "execution_count": 1,
   "metadata": {},
   "outputs": [
    {
     "name": "stdout",
     "output_type": "stream",
     "text": [
      "Requirement already satisfied: lightgbm in c:\\users\\aferr\\anaconda3\\lib\\site-packages (2.3.1)\n",
      "Requirement already satisfied: numpy in c:\\users\\aferr\\anaconda3\\lib\\site-packages (from lightgbm) (1.17.4)\n",
      "Requirement already satisfied: scikit-learn in c:\\users\\aferr\\anaconda3\\lib\\site-packages (from lightgbm) (0.21.3)\n",
      "Requirement already satisfied: scipy in c:\\users\\aferr\\anaconda3\\lib\\site-packages (from lightgbm) (1.4.1)\n",
      "Requirement already satisfied: joblib>=0.11 in c:\\users\\aferr\\anaconda3\\lib\\site-packages (from scikit-learn->lightgbm) (0.14.0)\n",
      "Requirement already satisfied: xgboost in c:\\users\\aferr\\anaconda3\\lib\\site-packages (1.2.1)\n",
      "Requirement already satisfied: scipy in c:\\users\\aferr\\anaconda3\\lib\\site-packages (from xgboost) (1.4.1)\n",
      "Requirement already satisfied: numpy in c:\\users\\aferr\\anaconda3\\lib\\site-packages (from xgboost) (1.17.4)\n"
     ]
    }
   ],
   "source": [
    "! pip install lightgbm\n",
    "! pip install xgboost"
   ]
  },
  {
   "cell_type": "code",
   "execution_count": 2,
   "metadata": {},
   "outputs": [],
   "source": [
    "import plotly_express as px\n",
    "import pandas as pd\n",
    "import matplotlib.pyplot as plt\n",
    "import numpy as np\n",
    "import statsmodels.api as sm\n",
    "import statsmodels.formula.api as smf\n",
    "import seaborn as sns\n",
    "from scipy import stats\n",
    "import scipy\n",
    "import seaborn as sns\n",
    "import statsmodels\n",
    "import statsmodels.stats.api as sms"
   ]
  },
  {
   "cell_type": "code",
   "execution_count": 3,
   "metadata": {},
   "outputs": [],
   "source": [
    "import xgboost as xgb\n",
    "from xgboost import XGBRegressor\n",
    "from sklearn.model_selection import train_test_split\n",
    "from sklearn.metrics import mean_squared_error\n",
    "from sklearn.preprocessing import RobustScaler\n",
    "from sklearn.model_selection import RandomizedSearchCV, GridSearchCV"
   ]
  },
  {
   "cell_type": "code",
   "execution_count": 4,
   "metadata": {},
   "outputs": [],
   "source": [
    "# parâmetros dos gráficos para o arquivo\n",
    "params = {'legend.fontsize': 'x-large',\n",
    "          'figure.figsize': (16, 8),\n",
    "          'axes.labelsize': 'x-large',\n",
    "          'axes.titlesize':'x-large',\n",
    "          'xtick.labelsize':'x-large',\n",
    "          'ytick.labelsize':'x-large'}\n",
    "%matplotlib inline\n",
    "plt.rcParams.update(params)"
   ]
  },
  {
   "cell_type": "markdown",
   "metadata": {},
   "source": [
    "### Arquivo_02"
   ]
  },
  {
   "cell_type": "code",
   "execution_count": 5,
   "metadata": {},
   "outputs": [],
   "source": [
    "df=pd.read_csv('d_f_a_2.csv',encoding = \"ISO-8859-1\", sep=\";\", low_memory=False, nrows=1000000)"
   ]
  },
  {
   "cell_type": "code",
   "execution_count": 6,
   "metadata": {},
   "outputs": [
    {
     "data": {
      "text/plain": [
       "(140628, 83)"
      ]
     },
     "execution_count": 6,
     "metadata": {},
     "output_type": "execute_result"
    }
   ],
   "source": [
    "df.shape"
   ]
  },
  {
   "cell_type": "code",
   "execution_count": 10,
   "metadata": {},
   "outputs": [
    {
     "data": {
      "text/html": [
       "<div>\n",
       "<style scoped>\n",
       "    .dataframe tbody tr th:only-of-type {\n",
       "        vertical-align: middle;\n",
       "    }\n",
       "\n",
       "    .dataframe tbody tr th {\n",
       "        vertical-align: top;\n",
       "    }\n",
       "\n",
       "    .dataframe thead th {\n",
       "        text-align: right;\n",
       "    }\n",
       "</style>\n",
       "<table border=\"1\" class=\"dataframe\">\n",
       "  <thead>\n",
       "    <tr style=\"text-align: right;\">\n",
       "      <th></th>\n",
       "      <th>cod_muni</th>\n",
       "      <th>qtd_mora</th>\n",
       "      <th>incidencia</th>\n",
       "      <th>diag_princ</th>\n",
       "      <th>prevalencia</th>\n",
       "      <th>renda_media_mora</th>\n",
       "      <th>SITU1_entorno</th>\n",
       "      <th>SITU2_entorno</th>\n",
       "      <th>SITU3_entorno</th>\n",
       "      <th>SITU4_entorno</th>\n",
       "      <th>...</th>\n",
       "      <th>V032_domicilio02</th>\n",
       "      <th>V033_domicilio02</th>\n",
       "      <th>V034_domicilio02</th>\n",
       "      <th>V035_domicilio02</th>\n",
       "      <th>V036_domicilio02</th>\n",
       "      <th>V037_domicilio02</th>\n",
       "      <th>V038_domicilio02</th>\n",
       "      <th>V041_domicilio02</th>\n",
       "      <th>V045_domicilio02</th>\n",
       "      <th>V089_domicilio02</th>\n",
       "    </tr>\n",
       "  </thead>\n",
       "  <tbody>\n",
       "    <tr>\n",
       "      <td>3</td>\n",
       "      <td>290010</td>\n",
       "      <td>8301</td>\n",
       "      <td>12</td>\n",
       "      <td>J18</td>\n",
       "      <td>0.001446</td>\n",
       "      <td>0.103943</td>\n",
       "      <td>0.463481</td>\n",
       "      <td>0.0</td>\n",
       "      <td>0.0</td>\n",
       "      <td>0.0</td>\n",
       "      <td>...</td>\n",
       "      <td>0.005892</td>\n",
       "      <td>0.399110</td>\n",
       "      <td>0.016835</td>\n",
       "      <td>0.035354</td>\n",
       "      <td>0.000000</td>\n",
       "      <td>0.010582</td>\n",
       "      <td>0.970779</td>\n",
       "      <td>0.027417</td>\n",
       "      <td>0.490861</td>\n",
       "      <td>0.509139</td>\n",
       "    </tr>\n",
       "    <tr>\n",
       "      <td>37</td>\n",
       "      <td>290020</td>\n",
       "      <td>16991</td>\n",
       "      <td>277</td>\n",
       "      <td>J18</td>\n",
       "      <td>0.016303</td>\n",
       "      <td>0.036980</td>\n",
       "      <td>0.548910</td>\n",
       "      <td>0.0</td>\n",
       "      <td>0.0</td>\n",
       "      <td>0.0</td>\n",
       "      <td>...</td>\n",
       "      <td>0.109294</td>\n",
       "      <td>0.194620</td>\n",
       "      <td>0.004395</td>\n",
       "      <td>0.249180</td>\n",
       "      <td>0.000176</td>\n",
       "      <td>0.024848</td>\n",
       "      <td>0.909341</td>\n",
       "      <td>0.086381</td>\n",
       "      <td>0.501875</td>\n",
       "      <td>0.498125</td>\n",
       "    </tr>\n",
       "    <tr>\n",
       "      <td>76</td>\n",
       "      <td>290030</td>\n",
       "      <td>14503</td>\n",
       "      <td>33</td>\n",
       "      <td>J18</td>\n",
       "      <td>0.002275</td>\n",
       "      <td>0.063205</td>\n",
       "      <td>0.887555</td>\n",
       "      <td>0.0</td>\n",
       "      <td>0.0</td>\n",
       "      <td>0.0</td>\n",
       "      <td>...</td>\n",
       "      <td>0.006756</td>\n",
       "      <td>0.374053</td>\n",
       "      <td>0.024022</td>\n",
       "      <td>0.037399</td>\n",
       "      <td>0.000409</td>\n",
       "      <td>0.006142</td>\n",
       "      <td>0.970859</td>\n",
       "      <td>0.018904</td>\n",
       "      <td>0.491913</td>\n",
       "      <td>0.508087</td>\n",
       "    </tr>\n",
       "  </tbody>\n",
       "</table>\n",
       "<p>3 rows × 83 columns</p>\n",
       "</div>"
      ],
      "text/plain": [
       "    cod_muni  qtd_mora  incidencia diag_princ  prevalencia  renda_media_mora  \\\n",
       "3     290010      8301          12        J18     0.001446          0.103943   \n",
       "37    290020     16991         277        J18     0.016303          0.036980   \n",
       "76    290030     14503          33        J18     0.002275          0.063205   \n",
       "\n",
       "    SITU1_entorno  SITU2_entorno  SITU3_entorno  SITU4_entorno  ...  \\\n",
       "3        0.463481            0.0            0.0            0.0  ...   \n",
       "37       0.548910            0.0            0.0            0.0  ...   \n",
       "76       0.887555            0.0            0.0            0.0  ...   \n",
       "\n",
       "    V032_domicilio02  V033_domicilio02  V034_domicilio02  V035_domicilio02  \\\n",
       "3           0.005892          0.399110          0.016835          0.035354   \n",
       "37          0.109294          0.194620          0.004395          0.249180   \n",
       "76          0.006756          0.374053          0.024022          0.037399   \n",
       "\n",
       "    V036_domicilio02  V037_domicilio02  V038_domicilio02  V041_domicilio02  \\\n",
       "3           0.000000          0.010582          0.970779          0.027417   \n",
       "37          0.000176          0.024848          0.909341          0.086381   \n",
       "76          0.000409          0.006142          0.970859          0.018904   \n",
       "\n",
       "    V045_domicilio02  V089_domicilio02  \n",
       "3           0.490861          0.509139  \n",
       "37          0.501875          0.498125  \n",
       "76          0.491913          0.508087  \n",
       "\n",
       "[3 rows x 83 columns]"
      ]
     },
     "execution_count": 10,
     "metadata": {},
     "output_type": "execute_result"
    }
   ],
   "source": [
    "# separação na doença mais frequente desse arquivo = K40\n",
    "temp = np.where(df['diag_princ'].isin(['J18']))\n",
    "df40 = df.loc[temp]\n",
    "# reunir tudo\n",
    "df40.head(3)"
   ]
  },
  {
   "cell_type": "code",
   "execution_count": 11,
   "metadata": {},
   "outputs": [
    {
     "data": {
      "text/plain": [
       "(2407, 83)"
      ]
     },
     "execution_count": 11,
     "metadata": {},
     "output_type": "execute_result"
    }
   ],
   "source": [
    "df40.shape"
   ]
  },
  {
   "cell_type": "code",
   "execution_count": 12,
   "metadata": {},
   "outputs": [],
   "source": [
    "# Preparação dos arquivos de entrada (X) e saída (y)\n",
    "X = df40.drop(columns=['prevalencia','diag_princ','incidencia','cod_muni'])\n",
    "y = df40.loc[:,'prevalencia']"
   ]
  },
  {
   "cell_type": "code",
   "execution_count": 13,
   "metadata": {},
   "outputs": [],
   "source": [
    "# Divisão entre arquivos de treino e teste, com corte em 30%\n",
    "X_train, X_test, y_train, y_test = train_test_split(X,y,test_size =0.3, random_state=1234)"
   ]
  },
  {
   "cell_type": "code",
   "execution_count": 14,
   "metadata": {},
   "outputs": [
    {
     "data": {
      "text/plain": [
       "ExtraTreesRegressor(bootstrap=False, criterion='mse', max_depth=None,\n",
       "                    max_features='auto', max_leaf_nodes=None,\n",
       "                    min_impurity_decrease=0.0, min_impurity_split=None,\n",
       "                    min_samples_leaf=1, min_samples_split=2,\n",
       "                    min_weight_fraction_leaf=0.0, n_estimators=100, n_jobs=None,\n",
       "                    oob_score=False, random_state=None, verbose=0,\n",
       "                    warm_start=False)"
      ]
     },
     "execution_count": 14,
     "metadata": {},
     "output_type": "execute_result"
    }
   ],
   "source": [
    "from sklearn.ensemble import ExtraTreesRegressor\n",
    "model = ExtraTreesRegressor(n_estimators=100)\n",
    "model.fit(X_train, y_train)"
   ]
  },
  {
   "cell_type": "code",
   "execution_count": 15,
   "metadata": {},
   "outputs": [
    {
     "data": {
      "text/plain": [
       "<AxesSubplot:>"
      ]
     },
     "execution_count": 15,
     "metadata": {},
     "output_type": "execute_result"
    },
    {
     "data": {
      "image/png": "[encoded data removed]",
      "text/plain": [
       "<Figure size 1152x576 with 1 Axes>"
      ]
     },
     "metadata": {
      "needs_background": "light"
     },
     "output_type": "display_data"
    }
   ],
   "source": [
    "(pd.Series(model.feature_importances_, index=X.columns)\n",
    "   .nlargest(30).sort_values().plot.barh())"
   ]
  },
  {
   "cell_type": "markdown",
   "metadata": {},
   "source": [
    "### Seleção de atributos  - acima da importância de (não_existe_pav_entorno): vide acima"
   ]
  },
  {
   "cell_type": "code",
   "execution_count": 16,
   "metadata": {},
   "outputs": [],
   "source": [
    "# Preparação dos arquivos de entrada (X) e saída (y)\n",
    "# Código do município foi retirado - seleção dos 8 mais importantes\n",
    "X = df40[[\"V018_domicilio02\",'V018_domicilio01',\"V061_domicilio01\",'V045_domicilio02',\"V089_domicilio02\",\"n_existe_mfio_entorno\",\n",
    "           'n_existe_arbo_entorno',\"n_existe_pav_entorno\"]]\n",
    "y = df40.loc[:,'prevalencia']"
   ]
  },
  {
   "cell_type": "code",
   "execution_count": 17,
   "metadata": {},
   "outputs": [],
   "source": [
    "# Divisão entre arquivos de treino e teste, com corte em 30%\n",
    "X_train, X_test, y_train, y_test = train_test_split(X,y,test_size =0.3, random_state=1234)"
   ]
  },
  {
   "cell_type": "code",
   "execution_count": 18,
   "metadata": {},
   "outputs": [
    {
     "data": {
      "text/plain": [
       "<bound method NDFrame.describe of 55006     0.020506\n",
       "108237    0.083638\n",
       "99095     0.010716\n",
       "140478    0.054087\n",
       "50919     0.017313\n",
       "            ...   \n",
       "15436     0.001162\n",
       "120432    0.039079\n",
       "36772     0.008697\n",
       "72965     0.008344\n",
       "39664     0.007039\n",
       "Name: prevalencia, Length: 1684, dtype: float64>"
      ]
     },
     "execution_count": 18,
     "metadata": {},
     "output_type": "execute_result"
    }
   ],
   "source": [
    "y_train.describe"
   ]
  },
  {
   "cell_type": "markdown",
   "metadata": {},
   "source": [
    "### Algoritmo Referência = Random Forest"
   ]
  },
  {
   "cell_type": "code",
   "execution_count": 19,
   "metadata": {},
   "outputs": [
    {
     "name": "stdout",
     "output_type": "stream",
     "text": [
      "Parameters currently in use:\n",
      "\n",
      "{'bootstrap': True,\n",
      " 'criterion': 'mse',\n",
      " 'max_depth': None,\n",
      " 'max_features': 'auto',\n",
      " 'max_leaf_nodes': None,\n",
      " 'min_impurity_decrease': 0.0,\n",
      " 'min_impurity_split': None,\n",
      " 'min_samples_leaf': 1,\n",
      " 'min_samples_split': 2,\n",
      " 'min_weight_fraction_leaf': 0.0,\n",
      " 'n_estimators': 'warn',\n",
      " 'n_jobs': None,\n",
      " 'oob_score': False,\n",
      " 'random_state': 42,\n",
      " 'verbose': 0,\n",
      " 'warm_start': False}\n"
     ]
    }
   ],
   "source": [
    "from sklearn.ensemble import RandomForestRegressor\n",
    "rf = RandomForestRegressor(random_state = 42)\n",
    "from sklearn.model_selection import RandomizedSearchCV\n",
    "from pprint import pprint\n",
    "# Look at parameters used by our current forest\n",
    "print('Parameters currently in use:\\n')\n",
    "pprint(rf.get_params())"
   ]
  },
  {
   "cell_type": "code",
   "execution_count": 20,
   "metadata": {},
   "outputs": [
    {
     "name": "stdout",
     "output_type": "stream",
     "text": [
      "Fitting 10 folds for each of 100 candidates, totalling 1000 fits\n"
     ]
    },
    {
     "name": "stderr",
     "output_type": "stream",
     "text": [
      "[Parallel(n_jobs=-1)]: Using backend LokyBackend with 8 concurrent workers.\n",
      "[Parallel(n_jobs=-1)]: Done  25 tasks      | elapsed:    6.2s\n",
      "[Parallel(n_jobs=-1)]: Done 542 tasks      | elapsed:    9.8s\n",
      "[Parallel(n_jobs=-1)]: Done 1000 out of 1000 | elapsed:   13.0s finished\n",
      "C:\\Users\\aferr\\Anaconda3\\lib\\site-packages\\sklearn\\model_selection\\_search.py:814: DeprecationWarning:\n",
      "\n",
      "The default of the `iid` parameter will change from True to False in version 0.22 and will be removed in 0.24. This will change numeric results when test-set sizes are unequal.\n",
      "\n"
     ]
    },
    {
     "data": {
      "text/plain": [
       "RandomizedSearchCV(cv=10, error_score='raise-deprecating',\n",
       "                   estimator=RandomForestRegressor(bootstrap=True,\n",
       "                                                   criterion='mse',\n",
       "                                                   max_depth=None,\n",
       "                                                   max_features='auto',\n",
       "                                                   max_leaf_nodes=None,\n",
       "                                                   min_impurity_decrease=0.0,\n",
       "                                                   min_impurity_split=None,\n",
       "                                                   min_samples_leaf=1,\n",
       "                                                   min_samples_split=2,\n",
       "                                                   min_weight_fraction_leaf=0.0,\n",
       "                                                   n_estimators='warn',\n",
       "                                                   n_jobs=None, oob_score=False,\n",
       "                                                   random_st...\n",
       "                                                   warm_start=False),\n",
       "                   iid='warn', n_iter=100, n_jobs=-1,\n",
       "                   param_distributions={'max_depth': [10, 20, 30],\n",
       "                                        'max_features': ['auto'],\n",
       "                                        'max_leaf_nodes': [2, 3, 4, 5],\n",
       "                                        'min_samples_leaf': [5, 10, 15],\n",
       "                                        'min_samples_split': [3, 6, 9, 12, 15,\n",
       "                                                              18, 21],\n",
       "                                        'n_estimators': [2, 3, 4, 5, 6, 7, 8, 9,\n",
       "                                                         10]},\n",
       "                   pre_dispatch='2*n_jobs', random_state=None, refit=True,\n",
       "                   return_train_score=False, scoring=None, verbose=2)"
      ]
     },
     "execution_count": 20,
     "metadata": {},
     "output_type": "execute_result"
    }
   ],
   "source": [
    "params_grid= {'n_estimators':[2,3,4,5,6,7,8,9,10],\n",
    "              \"max_features\":['auto'],\n",
    "              'max_depth':[10,20,30],\n",
    "              'max_leaf_nodes':[2,3,4,5],\n",
    "              'min_samples_leaf':[5,10,15],\n",
    "              'min_samples_split':[3,6,9,12,15,18,21]}\n",
    "random_rf = RandomizedSearchCV(estimator = rf,cv=10,param_distributions=params_grid,n_iter=100,verbose=2,n_jobs=-1)\n",
    "random_rf.fit(X_train, y_train)"
   ]
  },
  {
   "cell_type": "code",
   "execution_count": 21,
   "metadata": {},
   "outputs": [
    {
     "data": {
      "text/plain": [
       "{'n_estimators': 9,\n",
       " 'min_samples_split': 3,\n",
       " 'min_samples_leaf': 15,\n",
       " 'max_leaf_nodes': 3,\n",
       " 'max_features': 'auto',\n",
       " 'max_depth': 10}"
      ]
     },
     "execution_count": 21,
     "metadata": {},
     "output_type": "execute_result"
    }
   ],
   "source": [
    "random_rf.best_params_"
   ]
  },
  {
   "cell_type": "code",
   "execution_count": 22,
   "metadata": {},
   "outputs": [],
   "source": [
    "m_rf=RandomForestRegressor(n_estimators= 9,\n",
    " min_samples_split = 3,\n",
    " min_samples_leaf = 15,\n",
    " max_leaf_nodes = 3,\n",
    " max_features ='auto',\n",
    " max_depth = 10)"
   ]
  },
  {
   "cell_type": "code",
   "execution_count": 23,
   "metadata": {},
   "outputs": [
    {
     "name": "stdout",
     "output_type": "stream",
     "text": [
      "RandomForestRegressor(bootstrap=True, criterion='mse', max_depth=10,\n",
      "                      max_features='auto', max_leaf_nodes=3,\n",
      "                      min_impurity_decrease=0.0, min_impurity_split=None,\n",
      "                      min_samples_leaf=15, min_samples_split=3,\n",
      "                      min_weight_fraction_leaf=0.0, n_estimators=9, n_jobs=None,\n",
      "                      oob_score=False, random_state=None, verbose=0,\n",
      "                      warm_start=False)\n"
     ]
    }
   ],
   "source": [
    "yrf = m_rf.fit(X_train,y_train)\n",
    "print(yrf)"
   ]
  },
  {
   "cell_type": "code",
   "execution_count": 24,
   "metadata": {},
   "outputs": [],
   "source": [
    "y_rf= yrf.predict(X_test)"
   ]
  },
  {
   "cell_type": "code",
   "execution_count": 25,
   "metadata": {},
   "outputs": [
    {
     "name": "stdout",
     "output_type": "stream",
     "text": [
      "0.00027283\n"
     ]
    }
   ],
   "source": [
    "mse_rf = round(mean_squared_error(y_test, y_rf),8)\n",
    "print(mse_rf)"
   ]
  },
  {
   "cell_type": "code",
   "execution_count": 26,
   "metadata": {},
   "outputs": [
    {
     "name": "stdout",
     "output_type": "stream",
     "text": [
      "-195.3\n",
      "477.4\n"
     ]
    }
   ],
   "source": [
    "errop2= (y_test - y_rf)*100/y_test\n",
    "# em porcentagem\n",
    "media = round(np.mean(errop2),1)\n",
    "print(media)\n",
    "desvio = round(np.std(errop2),1)\n",
    "print(desvio)"
   ]
  },
  {
   "cell_type": "code",
   "execution_count": 27,
   "metadata": {},
   "outputs": [
    {
     "name": "stdout",
     "output_type": "stream",
     "text": [
      "0.0183\n"
     ]
    }
   ],
   "source": [
    "# Avaliação do erro em relação a modelo simples: média do y_train\n",
    "a = np.mean(y_train)\n",
    "print(round(a,4))"
   ]
  },
  {
   "cell_type": "code",
   "execution_count": 28,
   "metadata": {},
   "outputs": [],
   "source": [
    "a=[0.0183]*723 #array com a média de y_train"
   ]
  },
  {
   "cell_type": "code",
   "execution_count": 29,
   "metadata": {},
   "outputs": [
    {
     "name": "stdout",
     "output_type": "stream",
     "text": [
      "0.00027626 0.00027283\n",
      "0.9876\n"
     ]
    }
   ],
   "source": [
    "# novo erro: modelo simples, com a média do conjunto treino\n",
    "mse_m = mean_squared_error(y_test,a)\n",
    "# comparativo entre o modelo tree e o modelo simples\n",
    "r_rf = mse_rf/mse_m\n",
    "print(round(mse_m,8), round(mse_rf,8))\n",
    "print(round(r_rf,4))"
   ]
  },
  {
   "cell_type": "markdown",
   "metadata": {},
   "source": [
    "### Uso do XGBoost"
   ]
  },
  {
   "cell_type": "code",
   "execution_count": 30,
   "metadata": {},
   "outputs": [],
   "source": [
    "params= {\n",
    "    'booster': [\"gbtree\",\"gblinear\",'dart'],\n",
    "    'learning rate': [0.05, 0.1, 0.2, 0.3, 0.4, 0.5],\n",
    "    'max depth': [3,4,5,8,10,11,12],\n",
    "    'min_child_weigth': [1,3,5,7],\n",
    "    'gamma': [0, 0.1, 0.2, 0.3, 0.4],\n",
    "    'colsample_bytree': [0.3,0.4,0.5,0.6]}"
   ]
  },
  {
   "cell_type": "code",
   "execution_count": 31,
   "metadata": {},
   "outputs": [],
   "source": [
    "regressor = xgb.XGBRegressor()"
   ]
  },
  {
   "cell_type": "code",
   "execution_count": 32,
   "metadata": {},
   "outputs": [],
   "source": [
    "random_search = RandomizedSearchCV(regressor,param_distributions=params,n_iter=5,n_jobs=-1,cv=5,verbose=3)"
   ]
  },
  {
   "cell_type": "code",
   "execution_count": 33,
   "metadata": {},
   "outputs": [
    {
     "name": "stdout",
     "output_type": "stream",
     "text": [
      "Fitting 5 folds for each of 5 candidates, totalling 25 fits\n"
     ]
    },
    {
     "name": "stderr",
     "output_type": "stream",
     "text": [
      "[Parallel(n_jobs=-1)]: Using backend LokyBackend with 8 concurrent workers.\n",
      "C:\\Users\\aferr\\Anaconda3\\lib\\site-packages\\joblib\\externals\\loky\\process_executor.py:706: UserWarning:\n",
      "\n",
      "A worker stopped while some jobs were given to the executor. This can be caused by a too short worker timeout or by a memory leak.\n",
      "\n",
      "[Parallel(n_jobs=-1)]: Done  19 out of  25 | elapsed:   14.2s remaining:    4.4s\n",
      "[Parallel(n_jobs=-1)]: Done  25 out of  25 | elapsed:   15.4s finished\n"
     ]
    },
    {
     "name": "stdout",
     "output_type": "stream",
     "text": [
      "[09:31:33] WARNING: C:\\Users\\Administrator\\workspace\\xgboost-win64_release_1.2.0\\src\\learner.cc:516: \n",
      "Parameters: { learning rate, max depth, min_child_weigth } might not be used.\n",
      "\n",
      "  This may not be accurate due to some parameters are only used in language bindings but\n",
      "  passed down to XGBoost core.  Or some parameters are not used but slip through this\n",
      "  verification. Please open an issue if you find above cases.\n",
      "\n",
      "\n"
     ]
    },
    {
     "data": {
      "text/plain": [
       "RandomizedSearchCV(cv=5, error_score='raise-deprecating',\n",
       "                   estimator=XGBRegressor(base_score=None, booster=None,\n",
       "                                          colsample_bylevel=None,\n",
       "                                          colsample_bynode=None,\n",
       "                                          colsample_bytree=None, gamma=None,\n",
       "                                          gpu_id=None, importance_type='gain',\n",
       "                                          interaction_constraints=None,\n",
       "                                          learning_rate=None,\n",
       "                                          max_delta_step=None, max_depth=None,\n",
       "                                          min_child_weight=None, missing=nan,\n",
       "                                          monotone_con...\n",
       "                   iid='warn', n_iter=5, n_jobs=-1,\n",
       "                   param_distributions={'booster': ['gbtree', 'gblinear',\n",
       "                                                    'dart'],\n",
       "                                        'colsample_bytree': [0.3, 0.4, 0.5,\n",
       "                                                             0.6],\n",
       "                                        'gamma': [0, 0.1, 0.2, 0.3, 0.4],\n",
       "                                        'learning rate': [0.05, 0.1, 0.2, 0.3,\n",
       "                                                          0.4, 0.5],\n",
       "                                        'max depth': [3, 4, 5, 8, 10, 11, 12],\n",
       "                                        'min_child_weigth': [1, 3, 5, 7]},\n",
       "                   pre_dispatch='2*n_jobs', random_state=None, refit=True,\n",
       "                   return_train_score=False, scoring=None, verbose=3)"
      ]
     },
     "execution_count": 33,
     "metadata": {},
     "output_type": "execute_result"
    }
   ],
   "source": [
    "random_search.fit(X_train, y_train)"
   ]
  },
  {
   "cell_type": "code",
   "execution_count": 34,
   "metadata": {},
   "outputs": [
    {
     "name": "stdout",
     "output_type": "stream",
     "text": [
      "XGBRegressor(base_score=0.5, booster='dart', colsample_bylevel=1,\n",
      "             colsample_bynode=1, colsample_bytree=0.6, gamma=0.1, gpu_id=-1,\n",
      "             importance_type='gain', interaction_constraints='',\n",
      "             learning rate=0.4, learning_rate=0.300000012, max depth=10,\n",
      "             max_delta_step=0, max_depth=6, min_child_weight=1,\n",
      "             min_child_weigth=5, missing=nan, monotone_constraints='()',\n",
      "             n_estimators=100, n_jobs=0, num_parallel_tree=1,\n",
      "             objective='reg:squarederror', random_state=0, reg_alpha=0,\n",
      "             reg_lambda=1, scale_pos_weight=1, subsample=1, tree_method='exact',\n",
      "             validate_parameters=1, verbosity=None)\n"
     ]
    }
   ],
   "source": [
    "print(random_search.best_estimator_)"
   ]
  },
  {
   "cell_type": "code",
   "execution_count": 35,
   "metadata": {},
   "outputs": [
    {
     "data": {
      "text/plain": [
       "{'min_child_weigth': 5,\n",
       " 'max depth': 10,\n",
       " 'learning rate': 0.4,\n",
       " 'gamma': 0.1,\n",
       " 'colsample_bytree': 0.6,\n",
       " 'booster': 'dart'}"
      ]
     },
     "execution_count": 35,
     "metadata": {},
     "output_type": "execute_result"
    }
   ],
   "source": [
    "random_search.best_params_"
   ]
  },
  {
   "cell_type": "code",
   "execution_count": 36,
   "metadata": {},
   "outputs": [],
   "source": [
    "from sklearn.model_selection import cross_val_score\n",
    "score=cross_val_score(regressor,X,y,cv=10)"
   ]
  },
  {
   "cell_type": "code",
   "execution_count": 37,
   "metadata": {},
   "outputs": [],
   "source": [
    "mo = xgb.XGBRegressor(min_child_weigth= 5,\n",
    " max_depth = 10,\n",
    " learning_rate = 0.4,\n",
    " gamma = 0.1,\n",
    " colsample_bytree = 0.6,\n",
    " booster = 'dart') "
   ]
  },
  {
   "cell_type": "code",
   "execution_count": 38,
   "metadata": {},
   "outputs": [
    {
     "name": "stdout",
     "output_type": "stream",
     "text": [
      "[09:32:18] WARNING: C:\\Users\\Administrator\\workspace\\xgboost-win64_release_1.2.0\\src\\learner.cc:516: \n",
      "Parameters: { min_child_weigth } might not be used.\n",
      "\n",
      "  This may not be accurate due to some parameters are only used in language bindings but\n",
      "  passed down to XGBoost core.  Or some parameters are not used but slip through this\n",
      "  verification. Please open an issue if you find above cases.\n",
      "\n",
      "\n"
     ]
    },
    {
     "data": {
      "text/plain": [
       "XGBRegressor(base_score=0.5, booster='dart', colsample_bylevel=1,\n",
       "             colsample_bynode=1, colsample_bytree=0.6, gamma=0.1, gpu_id=-1,\n",
       "             importance_type='gain', interaction_constraints='',\n",
       "             learning_rate=0.4, max_delta_step=0, max_depth=10,\n",
       "             min_child_weight=1, min_child_weigth=5, missing=nan,\n",
       "             monotone_constraints='()', n_estimators=100, n_jobs=0,\n",
       "             num_parallel_tree=1, objective='reg:squarederror', random_state=0,\n",
       "             reg_alpha=0, reg_lambda=1, scale_pos_weight=1, subsample=1,\n",
       "             tree_method='exact', validate_parameters=1, verbosity=None)"
      ]
     },
     "execution_count": 38,
     "metadata": {},
     "output_type": "execute_result"
    }
   ],
   "source": [
    "mo.fit(X_train,y_train)"
   ]
  },
  {
   "cell_type": "code",
   "execution_count": 39,
   "metadata": {},
   "outputs": [],
   "source": [
    "y_xg = mo.predict(X_test)"
   ]
  },
  {
   "cell_type": "code",
   "execution_count": 40,
   "metadata": {},
   "outputs": [
    {
     "name": "stdout",
     "output_type": "stream",
     "text": [
      "0.0002761736464885062\n"
     ]
    }
   ],
   "source": [
    "mse_xg = mean_squared_error(y_test, y_xg)\n",
    "print(mse_xg)"
   ]
  },
  {
   "cell_type": "code",
   "execution_count": 41,
   "metadata": {},
   "outputs": [
    {
     "name": "stdout",
     "output_type": "stream",
     "text": [
      "108673    -263.800783\n",
      "110206      53.894998\n",
      "99998     -127.610601\n",
      "61840     -149.598013\n",
      "95562    -1009.968124\n",
      "             ...     \n",
      "109199    -171.823536\n",
      "60086     -333.258444\n",
      "95662       17.227353\n",
      "40006      -63.226232\n",
      "14226     -369.173245\n",
      "Name: prevalencia, Length: 723, dtype: float64\n"
     ]
    }
   ],
   "source": [
    "errop2= (y_test - y_xg)*100/y_test # em porcentagem\n",
    "print(errop2)"
   ]
  },
  {
   "cell_type": "code",
   "execution_count": 42,
   "metadata": {},
   "outputs": [
    {
     "name": "stdout",
     "output_type": "stream",
     "text": [
      "0.0002762577 0.0002761736\n",
      "0.9876\n"
     ]
    }
   ],
   "source": [
    "# novo erro: modelo simples, com a média do conjunto treino\n",
    "mse_m = mean_squared_error(y_test,a)\n",
    "# comparativo entre o modelo tree e o modelo simples\n",
    "r_xg = mse_xg/mse_m\n",
    "print(round(mse_m,10), round(mse_xg,10))\n",
    "print(round(r_rf,4))"
   ]
  },
  {
   "cell_type": "markdown",
   "metadata": {},
   "source": [
    "### Identificação dos municípios com errop2 entre -3 e 3 porcento"
   ]
  },
  {
   "cell_type": "code",
   "execution_count": 23,
   "metadata": {},
   "outputs": [
    {
     "data": {
      "text/plain": [
       "(723,)"
      ]
     },
     "execution_count": 23,
     "metadata": {},
     "output_type": "execute_result"
    }
   ],
   "source": [
    "errop2.shape"
   ]
  },
  {
   "cell_type": "code",
   "execution_count": 24,
   "metadata": {},
   "outputs": [
    {
     "name": "stdout",
     "output_type": "stream",
     "text": [
      "28093     -15.452949\n",
      "60506    -104.903835\n",
      "110943     31.713575\n",
      "109620      9.282394\n",
      "124632    -90.297621\n",
      "             ...    \n",
      "36559     -14.449885\n",
      "110742     23.881532\n",
      "83532      14.104426\n",
      "59033      -0.658913\n",
      "29783     -35.027938\n",
      "Name: prevalencia, Length: 723, dtype: float64\n"
     ]
    }
   ],
   "source": [
    "print(errop2)"
   ]
  },
  {
   "cell_type": "code",
   "execution_count": 25,
   "metadata": {},
   "outputs": [
    {
     "name": "stdout",
     "output_type": "stream",
     "text": [
      "<class 'pandas.core.series.Series'>\n"
     ]
    }
   ],
   "source": [
    "print(type(errop2))"
   ]
  },
  {
   "cell_type": "code",
   "execution_count": 26,
   "metadata": {},
   "outputs": [
    {
     "name": "stdout",
     "output_type": "stream",
     "text": [
      "        cod_muni      errop2\n",
      "28093     310840  -15.452949\n",
      "60506     315800 -104.903835\n",
      "110943    355460   31.713575\n",
      "109620    355290    9.282394\n",
      "124632    431030  -90.297621\n",
      "...          ...         ...\n",
      "36559     312210  -14.449885\n",
      "110742    355430   23.881532\n",
      "83532     351800   14.104426\n",
      "59033     315590   -0.658913\n",
      "29783     311110  -35.027938\n",
      "\n",
      "[723 rows x 2 columns]\n"
     ]
    }
   ],
   "source": [
    "frame = { 'cod_muni': X_test['cod_muni'], \"errop2\": errop2 } \n",
    "result = pd.DataFrame(frame) \n",
    "print(result) "
   ]
  },
  {
   "cell_type": "code",
   "execution_count": 27,
   "metadata": {},
   "outputs": [
    {
     "name": "stdout",
     "output_type": "stream",
     "text": [
      "<class 'pandas.core.frame.DataFrame'>\n",
      "Int64Index: 723 entries, 28093 to 29783\n",
      "Data columns (total 2 columns):\n",
      "cod_muni    723 non-null int64\n",
      "errop2      723 non-null float64\n",
      "dtypes: float64(1), int64(1)\n",
      "memory usage: 16.9 KB\n"
     ]
    }
   ],
   "source": [
    "result.info()"
   ]
  },
  {
   "cell_type": "code",
   "execution_count": 28,
   "metadata": {},
   "outputs": [],
   "source": [
    "a=result[result['errop2'] >-3]"
   ]
  },
  {
   "cell_type": "code",
   "execution_count": 29,
   "metadata": {},
   "outputs": [
    {
     "data": {
      "text/html": [
       "<div>\n",
       "<style scoped>\n",
       "    .dataframe tbody tr th:only-of-type {\n",
       "        vertical-align: middle;\n",
       "    }\n",
       "\n",
       "    .dataframe tbody tr th {\n",
       "        vertical-align: top;\n",
       "    }\n",
       "\n",
       "    .dataframe thead th {\n",
       "        text-align: right;\n",
       "    }\n",
       "</style>\n",
       "<table border=\"1\" class=\"dataframe\">\n",
       "  <thead>\n",
       "    <tr style=\"text-align: right;\">\n",
       "      <th></th>\n",
       "      <th>cod_muni</th>\n",
       "      <th>errop2</th>\n",
       "    </tr>\n",
       "  </thead>\n",
       "  <tbody>\n",
       "    <tr>\n",
       "      <td>110943</td>\n",
       "      <td>355460</td>\n",
       "      <td>31.713575</td>\n",
       "    </tr>\n",
       "    <tr>\n",
       "      <td>109620</td>\n",
       "      <td>355290</td>\n",
       "      <td>9.282394</td>\n",
       "    </tr>\n",
       "    <tr>\n",
       "      <td>65387</td>\n",
       "      <td>316570</td>\n",
       "      <td>52.406819</td>\n",
       "    </tr>\n",
       "  </tbody>\n",
       "</table>\n",
       "</div>"
      ],
      "text/plain": [
       "        cod_muni     errop2\n",
       "110943    355460  31.713575\n",
       "109620    355290   9.282394\n",
       "65387     316570  52.406819"
      ]
     },
     "execution_count": 29,
     "metadata": {},
     "output_type": "execute_result"
    }
   ],
   "source": [
    "a.head(3)"
   ]
  },
  {
   "cell_type": "code",
   "execution_count": 30,
   "metadata": {},
   "outputs": [
    {
     "name": "stdout",
     "output_type": "stream",
     "text": [
      "<class 'pandas.core.frame.DataFrame'>\n",
      "Int64Index: 344 entries, 110943 to 59033\n",
      "Data columns (total 2 columns):\n",
      "cod_muni    344 non-null int64\n",
      "errop2      344 non-null float64\n",
      "dtypes: float64(1), int64(1)\n",
      "memory usage: 8.1 KB\n"
     ]
    }
   ],
   "source": [
    "a.info()"
   ]
  },
  {
   "cell_type": "code",
   "execution_count": 31,
   "metadata": {},
   "outputs": [],
   "source": [
    "b_rf=a[a['errop2'] <3]"
   ]
  },
  {
   "cell_type": "code",
   "execution_count": 32,
   "metadata": {},
   "outputs": [
    {
     "name": "stdout",
     "output_type": "stream",
     "text": [
      "<class 'pandas.core.frame.DataFrame'>\n",
      "Int64Index: 41 entries, 6270 to 59033\n",
      "Data columns (total 2 columns):\n",
      "cod_muni    41 non-null int64\n",
      "errop2      41 non-null float64\n",
      "dtypes: float64(1), int64(1)\n",
      "memory usage: 984.0 bytes\n"
     ]
    }
   ],
   "source": [
    "b_rf.info()"
   ]
  },
  {
   "cell_type": "code",
   "execution_count": 34,
   "metadata": {},
   "outputs": [
    {
     "data": {
      "text/html": [
       "<div>\n",
       "<style scoped>\n",
       "    .dataframe tbody tr th:only-of-type {\n",
       "        vertical-align: middle;\n",
       "    }\n",
       "\n",
       "    .dataframe tbody tr th {\n",
       "        vertical-align: top;\n",
       "    }\n",
       "\n",
       "    .dataframe thead th {\n",
       "        text-align: right;\n",
       "    }\n",
       "</style>\n",
       "<table border=\"1\" class=\"dataframe\">\n",
       "  <thead>\n",
       "    <tr style=\"text-align: right;\">\n",
       "      <th></th>\n",
       "      <th>cod_muni</th>\n",
       "      <th>errop2</th>\n",
       "    </tr>\n",
       "  </thead>\n",
       "  <tbody>\n",
       "    <tr>\n",
       "      <td>6270</td>\n",
       "      <td>290960</td>\n",
       "      <td>-0.711526</td>\n",
       "    </tr>\n",
       "    <tr>\n",
       "      <td>88296</td>\n",
       "      <td>352380</td>\n",
       "      <td>-2.186850</td>\n",
       "    </tr>\n",
       "    <tr>\n",
       "      <td>130626</td>\n",
       "      <td>431470</td>\n",
       "      <td>1.603068</td>\n",
       "    </tr>\n",
       "    <tr>\n",
       "      <td>1450</td>\n",
       "      <td>290230</td>\n",
       "      <td>0.852331</td>\n",
       "    </tr>\n",
       "    <tr>\n",
       "      <td>81258</td>\n",
       "      <td>351510</td>\n",
       "      <td>-0.520033</td>\n",
       "    </tr>\n",
       "    <tr>\n",
       "      <td>54635</td>\n",
       "      <td>314880</td>\n",
       "      <td>-0.733280</td>\n",
       "    </tr>\n",
       "    <tr>\n",
       "      <td>120717</td>\n",
       "      <td>430655</td>\n",
       "      <td>-2.014881</td>\n",
       "    </tr>\n",
       "    <tr>\n",
       "      <td>102960</td>\n",
       "      <td>354380</td>\n",
       "      <td>1.188609</td>\n",
       "    </tr>\n",
       "    <tr>\n",
       "      <td>136284</td>\n",
       "      <td>432000</td>\n",
       "      <td>1.491574</td>\n",
       "    </tr>\n",
       "    <tr>\n",
       "      <td>746</td>\n",
       "      <td>290130</td>\n",
       "      <td>-2.559518</td>\n",
       "    </tr>\n",
       "    <tr>\n",
       "      <td>132493</td>\n",
       "      <td>431643</td>\n",
       "      <td>-0.021140</td>\n",
       "    </tr>\n",
       "    <tr>\n",
       "      <td>35254</td>\n",
       "      <td>312000</td>\n",
       "      <td>-2.159491</td>\n",
       "    </tr>\n",
       "    <tr>\n",
       "      <td>56772</td>\n",
       "      <td>315213</td>\n",
       "      <td>0.834135</td>\n",
       "    </tr>\n",
       "    <tr>\n",
       "      <td>14120</td>\n",
       "      <td>292110</td>\n",
       "      <td>-0.833243</td>\n",
       "    </tr>\n",
       "    <tr>\n",
       "      <td>116979</td>\n",
       "      <td>430367</td>\n",
       "      <td>1.990854</td>\n",
       "    </tr>\n",
       "    <tr>\n",
       "      <td>44199</td>\n",
       "      <td>313400</td>\n",
       "      <td>-0.439623</td>\n",
       "    </tr>\n",
       "    <tr>\n",
       "      <td>50148</td>\n",
       "      <td>314260</td>\n",
       "      <td>2.849063</td>\n",
       "    </tr>\n",
       "    <tr>\n",
       "      <td>12600</td>\n",
       "      <td>291900</td>\n",
       "      <td>-0.571115</td>\n",
       "    </tr>\n",
       "    <tr>\n",
       "      <td>17059</td>\n",
       "      <td>292530</td>\n",
       "      <td>-2.423999</td>\n",
       "    </tr>\n",
       "    <tr>\n",
       "      <td>45901</td>\n",
       "      <td>313652</td>\n",
       "      <td>2.680223</td>\n",
       "    </tr>\n",
       "    <tr>\n",
       "      <td>59934</td>\n",
       "      <td>315727</td>\n",
       "      <td>0.190732</td>\n",
       "    </tr>\n",
       "    <tr>\n",
       "      <td>84939</td>\n",
       "      <td>351950</td>\n",
       "      <td>-0.159215</td>\n",
       "    </tr>\n",
       "    <tr>\n",
       "      <td>20404</td>\n",
       "      <td>293015</td>\n",
       "      <td>-0.510837</td>\n",
       "    </tr>\n",
       "    <tr>\n",
       "      <td>8283</td>\n",
       "      <td>291220</td>\n",
       "      <td>-0.563738</td>\n",
       "    </tr>\n",
       "    <tr>\n",
       "      <td>58123</td>\n",
       "      <td>315440</td>\n",
       "      <td>2.337160</td>\n",
       "    </tr>\n",
       "    <tr>\n",
       "      <td>69368</td>\n",
       "      <td>317150</td>\n",
       "      <td>-0.708732</td>\n",
       "    </tr>\n",
       "    <tr>\n",
       "      <td>49961</td>\n",
       "      <td>314225</td>\n",
       "      <td>1.101951</td>\n",
       "    </tr>\n",
       "    <tr>\n",
       "      <td>87953</td>\n",
       "      <td>352330</td>\n",
       "      <td>0.092474</td>\n",
       "    </tr>\n",
       "    <tr>\n",
       "      <td>38025</td>\n",
       "      <td>312440</td>\n",
       "      <td>2.223492</td>\n",
       "    </tr>\n",
       "    <tr>\n",
       "      <td>124902</td>\n",
       "      <td>431043</td>\n",
       "      <td>-2.559528</td>\n",
       "    </tr>\n",
       "    <tr>\n",
       "      <td>40171</td>\n",
       "      <td>312790</td>\n",
       "      <td>-0.204791</td>\n",
       "    </tr>\n",
       "    <tr>\n",
       "      <td>42199</td>\n",
       "      <td>313100</td>\n",
       "      <td>2.738256</td>\n",
       "    </tr>\n",
       "    <tr>\n",
       "      <td>3573</td>\n",
       "      <td>290530</td>\n",
       "      <td>0.724375</td>\n",
       "    </tr>\n",
       "    <tr>\n",
       "      <td>138742</td>\n",
       "      <td>432195</td>\n",
       "      <td>-1.642874</td>\n",
       "    </tr>\n",
       "    <tr>\n",
       "      <td>32572</td>\n",
       "      <td>311547</td>\n",
       "      <td>2.670266</td>\n",
       "    </tr>\n",
       "  </tbody>\n",
       "</table>\n",
       "</div>"
      ],
      "text/plain": [
       "        cod_muni    errop2\n",
       "6270      290960 -0.711526\n",
       "88296     352380 -2.186850\n",
       "130626    431470  1.603068\n",
       "1450      290230  0.852331\n",
       "81258     351510 -0.520033\n",
       "54635     314880 -0.733280\n",
       "120717    430655 -2.014881\n",
       "102960    354380  1.188609\n",
       "136284    432000  1.491574\n",
       "746       290130 -2.559518\n",
       "132493    431643 -0.021140\n",
       "35254     312000 -2.159491\n",
       "56772     315213  0.834135\n",
       "14120     292110 -0.833243\n",
       "116979    430367  1.990854\n",
       "44199     313400 -0.439623\n",
       "50148     314260  2.849063\n",
       "12600     291900 -0.571115\n",
       "17059     292530 -2.423999\n",
       "45901     313652  2.680223\n",
       "59934     315727  0.190732\n",
       "84939     351950 -0.159215\n",
       "20404     293015 -0.510837\n",
       "8283      291220 -0.563738\n",
       "58123     315440  2.337160\n",
       "69368     317150 -0.708732\n",
       "49961     314225  1.101951\n",
       "87953     352330  0.092474\n",
       "38025     312440  2.223492\n",
       "124902    431043 -2.559528\n",
       "40171     312790 -0.204791\n",
       "42199     313100  2.738256\n",
       "3573      290530  0.724375\n",
       "138742    432195 -1.642874\n",
       "32572     311547  2.670266"
      ]
     },
     "execution_count": 34,
     "metadata": {},
     "output_type": "execute_result"
    }
   ],
   "source": [
    "b_rf.head(35)"
   ]
  },
  {
   "cell_type": "markdown",
   "metadata": {},
   "source": [
    "### Alterando a margem do erro para [-5% & 5$]"
   ]
  },
  {
   "cell_type": "code",
   "execution_count": 35,
   "metadata": {},
   "outputs": [],
   "source": [
    "a5=result[result['errop2'] >-5]"
   ]
  },
  {
   "cell_type": "code",
   "execution_count": 36,
   "metadata": {},
   "outputs": [
    {
     "name": "stdout",
     "output_type": "stream",
     "text": [
      "<class 'pandas.core.frame.DataFrame'>\n",
      "Int64Index: 356 entries, 110943 to 59033\n",
      "Data columns (total 2 columns):\n",
      "cod_muni    356 non-null int64\n",
      "errop2      356 non-null float64\n",
      "dtypes: float64(1), int64(1)\n",
      "memory usage: 8.3 KB\n"
     ]
    }
   ],
   "source": [
    "a5.info()"
   ]
  },
  {
   "cell_type": "code",
   "execution_count": 37,
   "metadata": {},
   "outputs": [],
   "source": [
    "b5_rf=a[a['errop2'] <5]"
   ]
  },
  {
   "cell_type": "code",
   "execution_count": 39,
   "metadata": {},
   "outputs": [
    {
     "name": "stdout",
     "output_type": "stream",
     "text": [
      "<class 'pandas.core.frame.DataFrame'>\n",
      "Int64Index: 55 entries, 79086 to 59033\n",
      "Data columns (total 2 columns):\n",
      "cod_muni    55 non-null int64\n",
      "errop2      55 non-null float64\n",
      "dtypes: float64(1), int64(1)\n",
      "memory usage: 1.3 KB\n"
     ]
    }
   ],
   "source": [
    "b5_rf.info()"
   ]
  },
  {
   "cell_type": "markdown",
   "metadata": {},
   "source": [
    "### Alterando a faixa para 10%"
   ]
  },
  {
   "cell_type": "code",
   "execution_count": 40,
   "metadata": {},
   "outputs": [],
   "source": [
    "a10=result[result['errop2'] >-10]"
   ]
  },
  {
   "cell_type": "code",
   "execution_count": 42,
   "metadata": {},
   "outputs": [
    {
     "name": "stdout",
     "output_type": "stream",
     "text": [
      "<class 'pandas.core.frame.DataFrame'>\n",
      "Int64Index: 387 entries, 110943 to 59033\n",
      "Data columns (total 2 columns):\n",
      "cod_muni    387 non-null int64\n",
      "errop2      387 non-null float64\n",
      "dtypes: float64(1), int64(1)\n",
      "memory usage: 9.1 KB\n"
     ]
    }
   ],
   "source": [
    "a10.info()"
   ]
  },
  {
   "cell_type": "code",
   "execution_count": 43,
   "metadata": {},
   "outputs": [],
   "source": [
    "b10_rf=a[a['errop2'] <10]"
   ]
  },
  {
   "cell_type": "code",
   "execution_count": 45,
   "metadata": {},
   "outputs": [
    {
     "name": "stdout",
     "output_type": "stream",
     "text": [
      "<class 'pandas.core.frame.DataFrame'>\n",
      "Int64Index: 99 entries, 109620 to 59033\n",
      "Data columns (total 2 columns):\n",
      "cod_muni    99 non-null int64\n",
      "errop2      99 non-null float64\n",
      "dtypes: float64(1), int64(1)\n",
      "memory usage: 2.3 KB\n"
     ]
    }
   ],
   "source": [
    "b10_rf.info()"
   ]
  },
  {
   "cell_type": "markdown",
   "metadata": {},
   "source": [
    "### Alterando a faixa para 1%"
   ]
  },
  {
   "cell_type": "code",
   "execution_count": 46,
   "metadata": {},
   "outputs": [],
   "source": [
    "a1=result[result['errop2'] >-1]"
   ]
  },
  {
   "cell_type": "code",
   "execution_count": 47,
   "metadata": {},
   "outputs": [],
   "source": [
    "b1_rf=a[a['errop2'] <1]"
   ]
  },
  {
   "cell_type": "code",
   "execution_count": 48,
   "metadata": {},
   "outputs": [
    {
     "name": "stdout",
     "output_type": "stream",
     "text": [
      "<class 'pandas.core.frame.DataFrame'>\n",
      "Int64Index: 29 entries, 6270 to 59033\n",
      "Data columns (total 2 columns):\n",
      "cod_muni    29 non-null int64\n",
      "errop2      29 non-null float64\n",
      "dtypes: float64(1), int64(1)\n",
      "memory usage: 696.0 bytes\n"
     ]
    }
   ],
   "source": [
    "b1_rf.info()"
   ]
  },
  {
   "cell_type": "code",
   "execution_count": null,
   "metadata": {},
   "outputs": [],
   "source": []
  }
 ],
 "metadata": {
  "kernelspec": {
   "display_name": "Python 3",
   "language": "python",
   "name": "python3"
  },
  "language_info": {
   "codemirror_mode": {
    "name": "ipython",
    "version": 3
   },
   "file_extension": ".py",
   "mimetype": "text/x-python",
   "name": "python",
   "nbconvert_exporter": "python",
   "pygments_lexer": "ipython3",
   "version": "3.7.4"
  },
  "latex_envs": {
   "LaTeX_envs_menu_present": true,
   "autoclose": false,
   "autocomplete": true,
   "bibliofile": "biblio.bib",
   "cite_by": "apalike",
   "current_citInitial": 1,
   "eqLabelWithNumbers": true,
   "eqNumInitial": 1,
   "hotkeys": {
    "equation": "Ctrl-E",
    "itemize": "Ctrl-I"
   },
   "labels_anchors": false,
   "latex_user_defs": false,
   "report_style_numbering": false,
   "user_envs_cfg": false
  },
  "toc": {
   "base_numbering": 1,
   "nav_menu": {},
   "number_sections": true,
   "sideBar": true,
   "skip_h1_title": false,
   "title_cell": "Table of Contents",
   "title_sidebar": "Contents",
   "toc_cell": false,
   "toc_position": {},
   "toc_section_display": true,
   "toc_window_display": false
  },
  "varInspector": {
   "cols": {
    "lenName": 16,
    "lenType": 16,
    "lenVar": 40
   },
   "kernels_config": {
    "python": {
     "delete_cmd_postfix": "",
     "delete_cmd_prefix": "del ",
     "library": "var_list.py",
     "varRefreshCmd": "print(var_dic_list())"
    },
    "r": {
     "delete_cmd_postfix": ") ",
     "delete_cmd_prefix": "rm(",
     "library": "var_list.r",
     "varRefreshCmd": "cat(var_dic_list()) "
    }
   },
   "types_to_exclude": [
    "module",
    "function",
    "builtin_function_or_method",
    "instance",
    "_Feature"
   ],
   "window_display": false
  }
 },
 "nbformat": 4,
 "nbformat_minor": 2
}
